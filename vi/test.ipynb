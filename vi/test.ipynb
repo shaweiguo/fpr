{
 "cells": [
  {
   "cell_type": "code",
   "execution_count": 2,
   "id": "a7b1f3b9-d93f-4306-9364-ede4edb8c3bb",
   "metadata": {},
   "outputs": [],
   "source": [
    "import tensorflow as tf\n",
    "from tensorflow.keras import datasets, layers, models\n",
    "from tensorflow.keras.layers import Input"
   ]
  },
  {
   "cell_type": "code",
   "execution_count": 4,
   "id": "a62b691f-f147-4ffa-a4f5-71b08b073152",
   "metadata": {},
   "outputs": [],
   "source": [
    "x = Input(batch_shape=(100, 100))"
   ]
  },
  {
   "cell_type": "code",
   "execution_count": 5,
   "id": "eb783026-f1d1-4213-8073-8a18505426eb",
   "metadata": {},
   "outputs": [
    {
     "data": {
      "text/plain": [
       "<KerasTensor: shape=(100, 100) dtype=float32 (created by layer 'input_1')>"
      ]
     },
     "execution_count": 5,
     "metadata": {},
     "output_type": "execute_result"
    }
   ],
   "source": [
    "x"
   ]
  },
  {
   "cell_type": "code",
   "execution_count": 6,
   "id": "a881ccb8-89a9-47e8-9657-5d9467398055",
   "metadata": {},
   "outputs": [
    {
     "data": {
      "text/plain": [
       "keras.engine.keras_tensor.KerasTensor"
      ]
     },
     "execution_count": 6,
     "metadata": {},
     "output_type": "execute_result"
    }
   ],
   "source": [
    "type(x)"
   ]
  },
  {
   "cell_type": "code",
   "execution_count": 7,
   "id": "0953c4df-5985-4ab4-9298-fd13a62554c9",
   "metadata": {},
   "outputs": [
    {
     "data": {
      "text/plain": [
       "{'_type_spec': TensorSpec(shape=(100, 100), dtype=tf.float32, name='input_1'),\n",
       " '_inferred_value': None,\n",
       " '_name': 'input_1',\n",
       " '_keras_mask': None,\n",
       " '_keras_history': KerasHistory(layer=<keras.engine.input_layer.InputLayer object at 0x000002A886105990>, node_index=0, tensor_index=0)}"
      ]
     },
     "execution_count": 7,
     "metadata": {},
     "output_type": "execute_result"
    }
   ],
   "source": [
    "vars(x)"
   ]
  },
  {
   "cell_type": "code",
   "execution_count": 8,
   "id": "cec9ba73-1e72-4c57-a4f5-9839876fb12b",
   "metadata": {},
   "outputs": [],
   "source": [
    "dense_layer = layers.Dense(units=10, activation='relu')"
   ]
  },
  {
   "cell_type": "code",
   "execution_count": 9,
   "id": "6550aa2f-4b4c-4adb-9aa9-5767d1eec1e2",
   "metadata": {},
   "outputs": [
    {
     "data": {
      "text/plain": [
       "<keras.layers.core.dense.Dense at 0x2a885d62a10>"
      ]
     },
     "execution_count": 9,
     "metadata": {},
     "output_type": "execute_result"
    }
   ],
   "source": [
    "dense_layer"
   ]
  },
  {
   "cell_type": "code",
   "execution_count": null,
   "id": "07833b09-0554-4d30-bc13-a21782cf08b8",
   "metadata": {},
   "outputs": [],
   "source": []
  }
 ],
 "metadata": {
  "kernelspec": {
   "display_name": "Python 3 (ipykernel)",
   "language": "python",
   "name": "python3"
  },
  "language_info": {
   "codemirror_mode": {
    "name": "ipython",
    "version": 3
   },
   "file_extension": ".py",
   "mimetype": "text/x-python",
   "name": "python",
   "nbconvert_exporter": "python",
   "pygments_lexer": "ipython3",
   "version": "3.10.8"
  }
 },
 "nbformat": 4,
 "nbformat_minor": 5
}
