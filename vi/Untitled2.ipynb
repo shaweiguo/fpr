{
 "cells": [
  {
   "cell_type": "code",
   "execution_count": 7,
   "id": "65f2624e-0027-4609-9456-c447835738d4",
   "metadata": {
    "tags": []
   },
   "outputs": [
    {
     "name": "stderr",
     "output_type": "stream",
     "text": [
      "Some weights of MegatronBertForMaskedLM were not initialized from the model checkpoint at IDEA-CCNL/Erlangshen-MegatronBert-3.9B-Chinese and are newly initialized: ['cls.predictions.bias']\n",
      "You should probably TRAIN this model on a down-stream task to be able to use it for predictions and inference.\n"
     ]
    },
    {
     "name": "stdout",
     "output_type": "stream",
     "text": [
      "[{'score': 0.5556007027626038, 'token': 4263, 'token_str': '爱', 'sequence': '生 活 的 真 谛 是 爱 。'}, {'score': 0.1618439108133316, 'token': 5401, 'token_str': '美', 'sequence': '生 活 的 真 谛 是 美 。'}, {'score': 0.04889656603336334, 'token': 4696, 'token_str': '真', 'sequence': '生 活 的 真 谛 是 真 。'}, {'score': 0.014448174275457859, 'token': 2640, 'token_str': '悟', 'sequence': '生 活 的 真 谛 是 悟 。'}, {'score': 0.014227446168661118, 'token': 4381, 'token_str': '玩', 'sequence': '生 活 的 真 谛 是 玩 。'}, {'score': 0.013059886172413826, 'token': 5010, 'token_str': '笑', 'sequence': '生 活 的 真 谛 是 笑 。'}, {'score': 0.01263718493282795, 'token': 782, 'token_str': '人', 'sequence': '生 活 的 真 谛 是 人 。'}, {'score': 0.011019867844879627, 'token': 1587, 'token_str': '善', 'sequence': '生 活 的 真 谛 是 善 。'}, {'score': 0.008693074807524681, 'token': 727, 'token_str': '乐', 'sequence': '生 活 的 真 谛 是 乐 。'}, {'score': 0.0063280267640948296, 'token': 2658, 'token_str': '情', 'sequence': '生 活 的 真 谛 是 情 。'}]\n"
     ]
    }
   ],
   "source": [
    "from transformers import AutoModelForMaskedLM, AutoTokenizer, FillMaskPipeline\n",
    "import torch\n",
    "\n",
    "tokenizer=AutoTokenizer.from_pretrained('IDEA-CCNL/Erlangshen-MegatronBert-3.9B-Chinese', use_fast=False)\n",
    "model=AutoModelForMaskedLM.from_pretrained('IDEA-CCNL/Erlangshen-MegatronBert-3.9B-Chinese')\n",
    "text = '生活的真谛是[MASK]。'\n",
    "fillmask_pipe = FillMaskPipeline(model, tokenizer)\n",
    "print(fillmask_pipe(text, top_k=10))"
   ]
  },
  {
   "cell_type": "code",
   "execution_count": null,
   "id": "a8848970-f734-4a75-b719-4adffbd78c09",
   "metadata": {},
   "outputs": [],
   "source": []
  }
 ],
 "metadata": {
  "kernelspec": {
   "display_name": "Python 3 (ipykernel)",
   "language": "python",
   "name": "python3"
  },
  "language_info": {
   "codemirror_mode": {
    "name": "ipython",
    "version": 3
   },
   "file_extension": ".py",
   "mimetype": "text/x-python",
   "name": "python",
   "nbconvert_exporter": "python",
   "pygments_lexer": "ipython3",
   "version": "3.10.9"
  }
 },
 "nbformat": 4,
 "nbformat_minor": 5
}
