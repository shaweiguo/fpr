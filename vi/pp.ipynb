{
 "cells": [
  {
   "cell_type": "code",
   "execution_count": 8,
   "id": "ba8c031c-16d6-402d-b7b4-efdba2e92032",
   "metadata": {
    "tags": []
   },
   "outputs": [
    {
     "data": {
      "text/plain": [
       "array([6.320e-03, 1.800e+01, 2.310e+00, ..., 3.969e+02, 7.880e+00,\n",
       "       1.190e+01])"
      ]
     },
     "execution_count": 8,
     "metadata": {},
     "output_type": "execute_result"
    }
   ],
   "source": [
    "import numpy as np\n",
    "import json\n",
    "\n",
    "datafile = '../data/housing.csv'\n",
    "data = np.fromfile(datafile, sep=' ')\n",
    "data"
   ]
  },
  {
   "cell_type": "code",
   "execution_count": 9,
   "id": "1ca5cc0f-1fc1-4850-acf9-5323aea56d7f",
   "metadata": {
    "tags": []
   },
   "outputs": [
    {
     "data": {
      "text/plain": [
       "array([[6.3200e-03, 1.8000e+01, 2.3100e+00, ..., 3.9690e+02, 4.9800e+00,\n",
       "        2.4000e+01],\n",
       "       [2.7310e-02, 0.0000e+00, 7.0700e+00, ..., 3.9690e+02, 9.1400e+00,\n",
       "        2.1600e+01],\n",
       "       [2.7290e-02, 0.0000e+00, 7.0700e+00, ..., 3.9283e+02, 4.0300e+00,\n",
       "        3.4700e+01],\n",
       "       ...,\n",
       "       [6.0760e-02, 0.0000e+00, 1.1930e+01, ..., 3.9690e+02, 5.6400e+00,\n",
       "        2.3900e+01],\n",
       "       [1.0959e-01, 0.0000e+00, 1.1930e+01, ..., 3.9345e+02, 6.4800e+00,\n",
       "        2.2000e+01],\n",
       "       [4.7410e-02, 0.0000e+00, 1.1930e+01, ..., 3.9690e+02, 7.8800e+00,\n",
       "        1.1900e+01]])"
      ]
     },
     "execution_count": 9,
     "metadata": {},
     "output_type": "execute_result"
    }
   ],
   "source": [
    "feature_names = ['CRIM', 'ZN', 'INDUS', 'CHAS', 'NOX', 'RM', 'AGE',\n",
    "                 'DIS', 'RAD', 'TAX', 'PATRATIO', 'B', 'LSTAT', 'MEDV']\n",
    "feature_num = len(feature_names)\n",
    "data = data.reshape([data.shape[0] // feature_num, feature_num])\n",
    "data"
   ]
  },
  {
   "cell_type": "code",
   "execution_count": 10,
   "id": "1d0821ac-cee5-4414-9fde-dd0416c9ce07",
   "metadata": {
    "tags": []
   },
   "outputs": [
    {
     "name": "stdout",
     "output_type": "stream",
     "text": [
      "(14,)\n",
      "[6.320e-03 1.800e+01 2.310e+00 0.000e+00 5.380e-01 6.575e+00 6.520e+01\n",
      " 4.090e+00 1.000e+00 2.960e+02 1.530e+01 3.969e+02 4.980e+00 2.400e+01]\n"
     ]
    }
   ],
   "source": [
    "x = data[0]\n",
    "print(x.shape)\n",
    "print(x)"
   ]
  },
  {
   "cell_type": "code",
   "execution_count": 11,
   "id": "6ca5b5f2-9e65-4107-aa73-30c1b74e96e7",
   "metadata": {
    "tags": []
   },
   "outputs": [
    {
     "data": {
      "text/plain": [
       "(404, 14)"
      ]
     },
     "execution_count": 11,
     "metadata": {},
     "output_type": "execute_result"
    }
   ],
   "source": [
    "ratio = 0.8\n",
    "offset = int(data.shape[0] * ratio)\n",
    "trainning_data = data[:offset]\n",
    "trainning_data.shape"
   ]
  },
  {
   "cell_type": "code",
   "execution_count": 13,
   "id": "194a5ebe-2c12-4759-9757-72bca2273498",
   "metadata": {
    "tags": []
   },
   "outputs": [],
   "source": [
    "maximums, minimums = trainning_data.max(axis=0), trainning_data.min(axis=0)\n",
    "for i in range(feature_num):\n",
    "    data[:, i] = (data[:, i] - minimums[i]) / (maximums[i] - minimums[i])"
   ]
  },
  {
   "cell_type": "code",
   "execution_count": 16,
   "id": "71a0fd61-28df-466b-a691-4b3d452c3365",
   "metadata": {
    "tags": []
   },
   "outputs": [],
   "source": [
    "def load_data(datafile):\n",
    "    # 从文件导入数据\n",
    "    # datafile = './work/housing.data'\n",
    "    data = np.fromfile(datafile, sep=' ')\n",
    "\n",
    "    # 每条数据包括14项，其中前面13项是影响因素，第14项是相应的房屋价格中位数\n",
    "    feature_names = [ 'CRIM', 'ZN', 'INDUS', 'CHAS', 'NOX', 'RM', 'AGE', \\\n",
    "                      'DIS', 'RAD', 'TAX', 'PTRATIO', 'B', 'LSTAT', 'MEDV' ]\n",
    "    feature_num = len(feature_names)\n",
    "\n",
    "    # 将原始数据进行Reshape，变成[N, 14]这样的形状\n",
    "    data = data.reshape([data.shape[0] // feature_num, feature_num])\n",
    "\n",
    "    # 将原数据集拆分成训练集和测试集\n",
    "    # 这里使用80%的数据做训练，20%的数据做测试\n",
    "    # 测试集和训练集必须是没有交集的\n",
    "    ratio = 0.8\n",
    "    offset = int(data.shape[0] * ratio)\n",
    "    training_data = data[:offset]\n",
    "\n",
    "    # 计算训练集的最大值，最小值\n",
    "    maximums, minimums = training_data.max(axis=0), training_data.min(axis=0)\n",
    "\n",
    "    # 对数据进行归一化处理\n",
    "    for i in range(feature_num):\n",
    "        data[:, i] = (data[:, i] - minimums[i]) / (maximums[i] - minimums[i])\n",
    "\n",
    "    # 训练集和测试集的划分比例\n",
    "    training_data = data[:offset]\n",
    "    test_data = data[offset:]\n",
    "    return training_data, test_data"
   ]
  },
  {
   "cell_type": "code",
   "execution_count": 17,
   "id": "c64e38a6-3dd7-4511-a88e-08e4c3d877ef",
   "metadata": {
    "tags": []
   },
   "outputs": [],
   "source": [
    "training_data, test_data = load_data(datafile)\n",
    "x = training_data[:, :-1]\n",
    "y = training_data[:, -1:]"
   ]
  },
  {
   "cell_type": "code",
   "execution_count": 18,
   "id": "01a1c14e-3773-44d1-95d8-27e75c3a1351",
   "metadata": {
    "tags": []
   },
   "outputs": [
    {
     "name": "stdout",
     "output_type": "stream",
     "text": [
      "[0.         0.18       0.07344184 0.         0.31481481 0.57750527\n",
      " 0.64160659 0.26920314 0.         0.22755741 0.28723404 1.\n",
      " 0.08967991]\n",
      "[0.42222222]\n"
     ]
    }
   ],
   "source": [
    "print(x[0])\n",
    "print(y[0])"
   ]
  },
  {
   "cell_type": "code",
   "execution_count": 19,
   "id": "6612731f-d760-4a16-839f-2e4f3ac2c8f2",
   "metadata": {
    "tags": []
   },
   "outputs": [],
   "source": [
    "w = [0.1, 0.2, 0.3, 0.4, 0.5, 0.6, 0.7, 0.8, -0.1, -0.2, -0.3, -0.4, 0.0]\n",
    "w = np.array(w).reshape([13, 1])"
   ]
  },
  {
   "cell_type": "code",
   "execution_count": 20,
   "id": "bd606e42-69c5-4ea8-a3eb-d84f51d84e3b",
   "metadata": {
    "tags": []
   },
   "outputs": [
    {
     "name": "stdout",
     "output_type": "stream",
     "text": [
      "[0.69474855]\n"
     ]
    }
   ],
   "source": [
    "x1 = x[0]\n",
    "t = np.dot(x1, w)\n",
    "print(t)"
   ]
  },
  {
   "cell_type": "code",
   "execution_count": 21,
   "id": "afc3e5d6-0f5a-4ec1-8ede-759887dbe083",
   "metadata": {
    "tags": []
   },
   "outputs": [
    {
     "name": "stdout",
     "output_type": "stream",
     "text": [
      "[0.49474855]\n"
     ]
    }
   ],
   "source": [
    "b = -0.2\n",
    "z = t + b\n",
    "print(z)"
   ]
  },
  {
   "cell_type": "code",
   "execution_count": 25,
   "id": "2ea546be-7828-41a7-95bc-fb567c6064ee",
   "metadata": {
    "tags": []
   },
   "outputs": [],
   "source": [
    "class Network(object):\n",
    "    def __init__(self, num_of_weights):\n",
    "        np.random.seed(0)\n",
    "        self.w = np.random.randn(num_of_weights, 1)\n",
    "        self.b = 0.\n",
    "    \n",
    "    def forward(self, x):\n",
    "        z = np.dot(x, self.w) + self.b\n",
    "        return z\n",
    "    \n",
    "    def loss(self, z, y):\n",
    "        error = z - y\n",
    "        cost = error * error\n",
    "        cost = np.mean(cost)\n",
    "        return cost"
   ]
  },
  {
   "cell_type": "code",
   "execution_count": 26,
   "id": "01ba0c9d-7321-4f24-9fe0-33379a743495",
   "metadata": {
    "tags": []
   },
   "outputs": [
    {
     "name": "stdout",
     "output_type": "stream",
     "text": [
      "predict:  [[2.39362982]\n",
      " [2.46752393]\n",
      " [2.02483479]]\n",
      "loss: 3.384496992612791\n"
     ]
    }
   ],
   "source": [
    "net = Network(13)\n",
    "x1 = x[0:3]\n",
    "y1 = y[0:3]\n",
    "z = net.forward(x1)\n",
    "print('predict: ', z)\n",
    "loss = net.loss(z, y1)\n",
    "print('loss:', loss)"
   ]
  },
  {
   "cell_type": "code",
   "execution_count": 24,
   "id": "7061bb83-9496-48a5-9762-77f160811080",
   "metadata": {
    "tags": []
   },
   "outputs": [
    {
     "name": "stdout",
     "output_type": "stream",
     "text": [
      "[3.88644793]\n"
     ]
    }
   ],
   "source": [
    "Loss = (y1 -z) * (y1 -z)\n",
    "print(Loss)"
   ]
  },
  {
   "cell_type": "code",
   "execution_count": 1,
   "id": "dc22169d-b4db-4f9a-a57e-6ef14a8af4c4",
   "metadata": {},
   "outputs": [],
   "source": [
    "import paddle\n",
    "from paddle.nn import Linear\n",
    "import paddle.nn.functional as F\n",
    "import numpy as np\n",
    "import os\n",
    "import random"
   ]
  },
  {
   "cell_type": "code",
   "execution_count": 4,
   "id": "52d9cdf9-7ea7-469a-bdf6-b461638e854c",
   "metadata": {
    "tags": []
   },
   "outputs": [],
   "source": [
    "def load_data(f):\n",
    "    data = np.fromfile(f, sep=' ', dtype=np.float32)\n",
    "    \n",
    "    # 每条数据包括14项，其中前面13项是影响因素，第14项是相应的房屋价格中位数\n",
    "    feature_names = [ 'CRIM', 'ZN', 'INDUS', 'CHAS', 'NOX', 'RM', 'AGE', 'DIS', 'RAD', 'TAX', 'PTRATIO', 'B', 'LSTAT', 'MEDV' ]\n",
    "    feature_num = len(feature_names)\n",
    "    \n",
    "    data = data.reshape([data.shape[0] // feature_num, feature_num])\n",
    "    \n",
    "    # 将原数据集拆分成训练集和测试集\n",
    "    # 这里使用80%的数据做训练，20%的数据做测试\n",
    "    # 测试集和训练集必须是没有交集的\n",
    "    ratio = 0.8\n",
    "    offset = int(data.shape[0] * ratio)\n",
    "    training_data = data[:offset]\n",
    "    \n",
    "    # 计算train数据集的最大值，最小值\n",
    "    maximums, minimums = training_data.max(axis=0), training_data.min(axis=0)\n",
    "    \n",
    "    # 记录数据的归一化参数，在预测时对数据做归一化\n",
    "    global max_values\n",
    "    global min_values\n",
    "    \n",
    "    max_values = maximums\n",
    "    min_values = minimums\n",
    "    \n",
    "    # 对数据进行归一化处理\n",
    "    for i in range(feature_num):\n",
    "        data[:, i] = (data[:, i] - min_values[i]) / (maximums[i] - minimums[i])\n",
    "    \n",
    "    training_data = data[:offset]\n",
    "    test_data = data[offset:]\n",
    "    \n",
    "    return training_data, test_data"
   ]
  },
  {
   "cell_type": "code",
   "execution_count": 8,
   "id": "56923601-4df2-43b6-a76f-93c5883456ad",
   "metadata": {
    "tags": []
   },
   "outputs": [
    {
     "name": "stdout",
     "output_type": "stream",
     "text": [
      "(404, 14)\n",
      "[2.35922547e-04 0.00000000e+00 2.62405723e-01 0.00000000e+00\n",
      " 1.72839552e-01 5.47997713e-01 7.82698274e-01 3.48961979e-01\n",
      " 4.34782617e-02 1.14822544e-01 5.53191364e-01 1.00000000e+00\n",
      " 2.04470202e-01 3.68888885e-01]\n"
     ]
    }
   ],
   "source": [
    "# 验证数据集读取程序的正确性\n",
    "data_file = '../data/housing.csv'\n",
    "training_data, test_data = load_data(data_file)\n",
    "print(training_data.shape)\n",
    "print(training_data[1, :])"
   ]
  },
  {
   "cell_type": "code",
   "execution_count": 9,
   "id": "a7e86be4-3271-47d5-aec7-621ee7299d84",
   "metadata": {
    "tags": []
   },
   "outputs": [],
   "source": [
    "class Regressor(paddle.nn.Layer):\n",
    "    def __init__(self):\n",
    "        super(Regressor, self).__init__()\n",
    "        \n",
    "        self.fc = Linear(in_features=13, out_features=1)\n",
    "    \n",
    "    def forward(self, inputs):\n",
    "        x = self.fc(inputs)\n",
    "        return x"
   ]
  },
  {
   "cell_type": "code",
   "execution_count": 10,
   "id": "7a5fc436-5eab-4802-9d4a-56a5a044790f",
   "metadata": {
    "tags": []
   },
   "outputs": [],
   "source": [
    "model = Regressor()\n",
    "model.train()\n",
    "training_data, test_data = load_data(data_file)\n",
    "opt = paddle.optimizer.SGD(learning_rate=0.01, parameters=model.parameters())"
   ]
  },
  {
   "cell_type": "code",
   "execution_count": 11,
   "id": "a5593ca5-01d3-4c3f-8e30-92028127208f",
   "metadata": {
    "tags": []
   },
   "outputs": [
    {
     "name": "stdout",
     "output_type": "stream",
     "text": [
      "epoch: 0, iter: 0, loss is: [0.18709671]\n",
      "epoch: 0, iter: 20, loss is: [0.18732806]\n",
      "epoch: 0, iter: 40, loss is: [0.03730242]\n",
      "epoch: 1, iter: 0, loss is: [0.07558794]\n",
      "epoch: 1, iter: 20, loss is: [0.26684335]\n",
      "epoch: 1, iter: 40, loss is: [0.09141275]\n",
      "epoch: 2, iter: 0, loss is: [0.02915162]\n",
      "epoch: 2, iter: 20, loss is: [0.07933918]\n",
      "epoch: 2, iter: 40, loss is: [0.03347169]\n",
      "epoch: 3, iter: 0, loss is: [0.04780255]\n",
      "epoch: 3, iter: 20, loss is: [0.13286522]\n",
      "epoch: 3, iter: 40, loss is: [0.1979607]\n",
      "epoch: 4, iter: 0, loss is: [0.10601435]\n",
      "epoch: 4, iter: 20, loss is: [0.04706139]\n",
      "epoch: 4, iter: 40, loss is: [0.08828487]\n",
      "epoch: 5, iter: 0, loss is: [0.09954137]\n",
      "epoch: 5, iter: 20, loss is: [0.08786356]\n",
      "epoch: 5, iter: 40, loss is: [0.05110221]\n",
      "epoch: 6, iter: 0, loss is: [0.07174417]\n",
      "epoch: 6, iter: 20, loss is: [0.02342386]\n",
      "epoch: 6, iter: 40, loss is: [0.04081912]\n",
      "epoch: 7, iter: 0, loss is: [0.076805]\n",
      "epoch: 7, iter: 20, loss is: [0.04391838]\n",
      "epoch: 7, iter: 40, loss is: [0.05142963]\n",
      "epoch: 8, iter: 0, loss is: [0.08968471]\n",
      "epoch: 8, iter: 20, loss is: [0.05321789]\n",
      "epoch: 8, iter: 40, loss is: [0.04288197]\n",
      "epoch: 9, iter: 0, loss is: [0.04510193]\n",
      "epoch: 9, iter: 20, loss is: [0.04770286]\n",
      "epoch: 9, iter: 40, loss is: [0.07758629]\n"
     ]
    }
   ],
   "source": [
    "EPOCH_NUM = 10\n",
    "BATCH_SIZE = 10\n",
    "\n",
    "for epoch_id in range(EPOCH_NUM):\n",
    "    np.random.shuffle(training_data)\n",
    "    mini_batches = [training_data[k:k+BATCH_SIZE] for k in range(0, len(training_data), BATCH_SIZE)]\n",
    "    for iter_id, mini_batch in enumerate(mini_batches):\n",
    "        x = np.array(mini_batch[:, :-1])\n",
    "        y = np.array(mini_batch[:, -1:])\n",
    "        house_features = paddle.to_tensor(x)\n",
    "        prices = paddle.to_tensor(y)\n",
    "        \n",
    "        predicts = model(house_features)\n",
    "        \n",
    "        loss = F.square_error_cost(predicts, label=prices)\n",
    "        avg_loss = paddle.mean(loss)\n",
    "        if iter_id % 20 == 0:\n",
    "            print(\"epoch: {}, iter: {}, loss is: {}\".format(epoch_id, iter_id, avg_loss.numpy()))\n",
    "        \n",
    "        avg_loss.backward()\n",
    "        opt.step()\n",
    "        opt.clear_grad()"
   ]
  },
  {
   "cell_type": "code",
   "execution_count": 12,
   "id": "2924eec4-20a3-4fe1-8803-82346411fd6a",
   "metadata": {
    "tags": []
   },
   "outputs": [
    {
     "name": "stdout",
     "output_type": "stream",
     "text": [
      "模型保存成功，模型参数保存在LR_model.pdparams中\n"
     ]
    }
   ],
   "source": [
    "paddle.save(model.state_dict(), 'LR_model.pdparams')\n",
    "print(\"模型保存成功，模型参数保存在LR_model.pdparams中\")"
   ]
  },
  {
   "cell_type": "code",
   "execution_count": 13,
   "id": "a874aa85-07c3-4aa8-8130-7cb4bf87bb68",
   "metadata": {
    "tags": []
   },
   "outputs": [],
   "source": [
    "def load_one_example():\n",
    "    idx = np.random.randint(0, test_data.shape[0])\n",
    "    idx = -10\n",
    "    one_data, label = test_data[idx, :-1], test_data[idx, -1]\n",
    "    one_data = one_data.reshape([1, -1])\n",
    "    \n",
    "    return one_data, label"
   ]
  },
  {
   "cell_type": "code",
   "execution_count": 14,
   "id": "1c52a8c4-7919-49a0-8005-ecb24cc1f778",
   "metadata": {
    "tags": []
   },
   "outputs": [
    {
     "name": "stdout",
     "output_type": "stream",
     "text": [
      "Inference result is [[21.266832]], the corresponding label is 19.700000762939453\n"
     ]
    }
   ],
   "source": [
    "model_dict = paddle.load('LR_model.pdparams')\n",
    "model.load_dict(model_dict)\n",
    "model.eval()\n",
    "\n",
    "one_data, label = load_one_example()\n",
    "one_data = paddle.to_tensor(one_data)\n",
    "predict = model(one_data)\n",
    "\n",
    "predict = predict * (max_values[-1] - min_values[-1]) + min_values[-1]\n",
    "label = label * (max_values[-1] - min_values[-1]) + min_values[-1]\n",
    "\n",
    "print(\"Inference result is {}, the corresponding label is {}\".format(predict.numpy(), label))"
   ]
  },
  {
   "cell_type": "code",
   "execution_count": null,
   "id": "cda2407d-b207-4357-a02c-024cca239fbc",
   "metadata": {},
   "outputs": [],
   "source": []
  }
 ],
 "metadata": {
  "kernelspec": {
   "display_name": "Python 3 (ipykernel)",
   "language": "python",
   "name": "python3"
  },
  "language_info": {
   "codemirror_mode": {
    "name": "ipython",
    "version": 3
   },
   "file_extension": ".py",
   "mimetype": "text/x-python",
   "name": "python",
   "nbconvert_exporter": "python",
   "pygments_lexer": "ipython3",
   "version": "3.10.9"
  }
 },
 "nbformat": 4,
 "nbformat_minor": 5
}
