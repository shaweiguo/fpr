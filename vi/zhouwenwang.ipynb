{
 "cells": [
  {
   "cell_type": "code",
   "execution_count": 1,
   "id": "ca4c9d7a-3f58-4617-ac1b-f2cd5094280c",
   "metadata": {
    "tags": []
   },
   "outputs": [
    {
     "name": "stderr",
     "output_type": "stream",
     "text": [
      "2023-02-19 11:08:49.668465: I tensorflow/core/platform/cpu_feature_guard.cc:193] This TensorFlow binary is optimized with oneAPI Deep Neural Network Library (oneDNN) to use the following CPU instructions in performance-critical operations:  AVX2 FMA\n",
      "To enable them in other operations, rebuild TensorFlow with the appropriate compiler flags.\n"
     ]
    }
   ],
   "source": [
    "from fengshen import RoFormerModel    \n",
    "from fengshen import RoFormerConfig\n",
    "from transformers import BertTokenizer\n",
    "\n",
    "tokenizer = BertTokenizer.from_pretrained(\"IDEA-CCNL/Zhouwenwang-Unified-1.3B\")\n",
    "config = RoFormerConfig.from_pretrained(\"IDEA-CCNL/Zhouwenwang-Unified-1.3B\")\n",
    "model = RoFormerModel.from_pretrained(\"IDEA-CCNL/Zhouwenwang-Unified-1.3B\")"
   ]
  },
  {
   "cell_type": "code",
   "execution_count": 2,
   "id": "63c3f91d-03cc-4d36-b701-6ee624ea7d99",
   "metadata": {
    "tags": []
   },
   "outputs": [
    {
     "name": "stdout",
     "output_type": "stream",
     "text": [
      "清华大学位于北京市海淀区北京大学校内，是清华大学和北京大学的简称。\n"
     ]
    }
   ],
   "source": [
    "from fengshen import RoFormerModel\n",
    "from transformers import AutoTokenizer\n",
    "import torch\n",
    "import numpy as np\n",
    "\n",
    "sentence = '清华大学位于'\n",
    "max_length = 32\n",
    "\n",
    "tokenizer = AutoTokenizer.from_pretrained(\"IDEA-CCNL/Zhouwenwang-Unified-1.3B\")\n",
    "model = RoFormerModel.from_pretrained(\"IDEA-CCNL/Zhouwenwang-Unified-1.3B\")\n",
    "\n",
    "for i in range(max_length):\n",
    "    encode = torch.tensor(\n",
    "        [[tokenizer.cls_token_id]+tokenizer.encode(sentence, add_special_tokens=False)]).long()\n",
    "    logits = model(encode)[0]\n",
    "    logits = torch.nn.functional.linear(\n",
    "        logits, model.embeddings.word_embeddings.weight)\n",
    "    logits = torch.nn.functional.softmax(\n",
    "        logits, dim=-1).cpu().detach().numpy()[0]\n",
    "    sentence = sentence + \\\n",
    "        tokenizer.decode(int(np.random.choice(logits.shape[1], p=logits[-1])))\n",
    "    if sentence[-1] == '。':\n",
    "        break\n",
    "print(sentence)"
   ]
  },
  {
   "cell_type": "code",
   "execution_count": 3,
   "id": "a0265f20-6a63-434b-b726-6632bc8c5549",
   "metadata": {
    "tags": []
   },
   "outputs": [],
   "source": [
    "from fengshen import RoFormerModel    \n",
    "from fengshen import RoFormerConfig\n",
    "from transformers import BertTokenizer\n",
    "\n",
    "tokenizer = BertTokenizer.from_pretrained(\"IDEA-CCNL/Zhouwenwang-Unified-110M\")\n",
    "config = RoFormerConfig.from_pretrained(\"IDEA-CCNL/Zhouwenwang-Unified-110M\")\n",
    "model = RoFormerModel.from_pretrained(\"IDEA-CCNL/Zhouwenwang-Unified-110M\")"
   ]
  },
  {
   "cell_type": "code",
   "execution_count": 4,
   "id": "146df462-0f6e-4640-9de8-ca6c5f583214",
   "metadata": {
    "tags": []
   },
   "outputs": [
    {
     "name": "stdout",
     "output_type": "stream",
     "text": [
      "清华大学位于天津津塘塘塘塘塘塘塘塘塘塘塘塘塘塘塘塘塘塘塘塘塘塘塘塘塘塘塘塘塘\n"
     ]
    }
   ],
   "source": [
    "from fengshen import RoFormerModel\n",
    "from transformers import AutoTokenizer\n",
    "import torch\n",
    "import numpy as np\n",
    "\n",
    "sentence = '清华大学位于'\n",
    "max_length = 32\n",
    "\n",
    "tokenizer = AutoTokenizer.from_pretrained(\"IDEA-CCNL/Zhouwenwang-Unified-110M\")\n",
    "model = RoFormerModel.from_pretrained(\"IDEA-CCNL/Zhouwenwang-Unified-110M\")\n",
    "\n",
    "for i in range(max_length):\n",
    "    encode = torch.tensor(\n",
    "        [[tokenizer.cls_token_id]+tokenizer.encode(sentence, add_special_tokens=False)]).long()\n",
    "    logits = model(encode)[0]\n",
    "    logits = torch.nn.functional.linear(\n",
    "        logits, model.embeddings.word_embeddings.weight)\n",
    "    logits = torch.nn.functional.softmax(\n",
    "        logits, dim=-1).cpu().detach().numpy()[0]\n",
    "    sentence = sentence + \\\n",
    "        tokenizer.decode(int(np.random.choice(logits.shape[1], p=logits[-1])))\n",
    "    if sentence[-1] == '。':\n",
    "        break\n",
    "print(sentence)"
   ]
  },
  {
   "cell_type": "code",
   "execution_count": null,
   "id": "d5292e9a-f206-44ab-a9fb-c70e6461d696",
   "metadata": {},
   "outputs": [],
   "source": []
  }
 ],
 "metadata": {
  "kernelspec": {
   "display_name": "Python 3 (ipykernel)",
   "language": "python",
   "name": "python3"
  },
  "language_info": {
   "codemirror_mode": {
    "name": "ipython",
    "version": 3
   },
   "file_extension": ".py",
   "mimetype": "text/x-python",
   "name": "python",
   "nbconvert_exporter": "python",
   "pygments_lexer": "ipython3",
   "version": "3.10.9"
  }
 },
 "nbformat": 4,
 "nbformat_minor": 5
}
