{
 "cells": [
  {
   "cell_type": "code",
   "execution_count": 1,
   "id": "e6b4fb44-7fee-4585-aeac-fb208cc2c2b6",
   "metadata": {
    "tags": []
   },
   "outputs": [],
   "source": [
    "import fitz\n",
    "import io\n",
    "from PIL import Image"
   ]
  },
  {
   "cell_type": "code",
   "execution_count": 2,
   "id": "21d2a999-dc96-47e2-ba4e-5420db7ebfa3",
   "metadata": {
    "tags": []
   },
   "outputs": [],
   "source": [
    "pdf_file = \"/home/sha/Documents/WeChat Files/shaweiguo/FileStorage/MsgAttach/ff2d349056d9e98a62845cc5180acde3/File/2023-03/s41598-020-77218-4.pdf\""
   ]
  },
  {
   "cell_type": "code",
   "execution_count": 3,
   "id": "6eab4fb4-9fbb-4711-9352-79cd78316a9f",
   "metadata": {
    "tags": []
   },
   "outputs": [],
   "source": [
    "pdf = fitz.open(pdf_file)"
   ]
  },
  {
   "cell_type": "code",
   "execution_count": 4,
   "id": "b09fe131-ed38-4647-b41e-b8e31d7e29e1",
   "metadata": {
    "tags": []
   },
   "outputs": [
    {
     "name": "stdout",
     "output_type": "stream",
     "text": [
      "[!] No images found on page 0\n",
      "[!] No images found on page 1\n",
      "[!] No images found on page 2\n",
      "[!] No images found on page 3\n",
      "[!] No images found on page 4\n",
      "[!] No images found on page 5\n",
      "[!] No images found on page 6\n",
      "[!] No images found on page 7\n",
      "[!] No images found on page 8\n",
      "[!] No images found on page 9\n",
      "[+] Found a total of 1 images in page 10\n",
      "[!] No images found on page 11\n"
     ]
    }
   ],
   "source": [
    "for page_index in range(len(pdf)):\n",
    "    page = pdf[page_index]\n",
    "    image_list = page.get_images()\n",
    "    \n",
    "    if image_list:\n",
    "        print(f\"[+] Found a total of {len(image_list)} images in page {page_index}\")\n",
    "    else:\n",
    "        print(f\"[!] No images found on page {page_index}\")\n",
    "    \n",
    "    for image_index, img in enumerate(image_list, start=1):\n",
    "        xref = img[0]\n",
    "        base_image = pdf.extract_image(xref)\n",
    "        image_bytes = base_image[\"image\"]\n",
    "        image_ext = base_image[\"ext\"]\n",
    "        \n",
    "        image = Image.open(io.BytesIO(image_bytes))\n",
    "        image.save(open(f\"tmp/image{page_index+1}_{image_index}.{image_ext}\", \"wb\"))"
   ]
  },
  {
   "cell_type": "code",
   "execution_count": 9,
   "id": "066507e2-bd87-46bb-992c-cc4c4f4bfa8f",
   "metadata": {
    "tags": []
   },
   "outputs": [],
   "source": [
    "import camelot\n",
    "import tabula\n",
    "import os"
   ]
  },
  {
   "cell_type": "code",
   "execution_count": 10,
   "id": "f1420d18-6e29-409e-8ad1-ff1d6cae4196",
   "metadata": {
    "tags": []
   },
   "outputs": [],
   "source": [
    "# tables = camelot.read_pdf(pdf_file)\n",
    "# print(f\"Total tables extracted: {tables.n}\")\n",
    "tables = tabula.read_pdf(pdf_file, pages=\"all\")"
   ]
  },
  {
   "cell_type": "code",
   "execution_count": 11,
   "id": "28a3dc53-4eea-4b68-87f8-538fcfb8f9a5",
   "metadata": {
    "tags": []
   },
   "outputs": [],
   "source": [
    "folder_name = \"tables\"\n",
    "if not os.path.isdir(folder_name):\n",
    "    os.mkdir(folder_name)\n",
    "\n",
    "for i, table in enumerate(tables, start=1):\n",
    "    table.to_excel(os.path.join(folder_name, f\"table_{i}.xlsx\"), index=False)"
   ]
  },
  {
   "cell_type": "code",
   "execution_count": 13,
   "id": "2b9637e0-fd2a-4486-a1c2-b6a609fd3963",
   "metadata": {
    "tags": []
   },
   "outputs": [
    {
     "data": {
      "text/plain": [
       "12"
      ]
     },
     "execution_count": 13,
     "metadata": {},
     "output_type": "execute_result"
    }
   ],
   "source": [
    "pdf.page_count"
   ]
  },
  {
   "cell_type": "code",
   "execution_count": 14,
   "id": "3d539ab6-f4ce-4e01-aa2c-24088302ba61",
   "metadata": {
    "tags": []
   },
   "outputs": [
    {
     "data": {
      "text/plain": [
       "{'format': 'PDF 1.6',\n",
       " 'title': 'Accuracy and efficiency of germline variant calling pipelines for human genome data',\n",
       " 'author': 'Sen Zhao ',\n",
       " 'subject': 'Scientific Reports, https://doi.org/10.1038/s41598-020-77218-4',\n",
       " 'keywords': '',\n",
       " 'creator': 'Springer',\n",
       " 'producer': 'Adobe PDF Library 15.0; modified using iText® 5.3.5 ©2000-2012 1T3XT BVBA (SPRINGER SBM; licensed version)',\n",
       " 'creationDate': \"D:20201113142255+05'30'\",\n",
       " 'modDate': \"D:20201113191340+01'00'\",\n",
       " 'trapped': '',\n",
       " 'encryption': None}"
      ]
     },
     "execution_count": 14,
     "metadata": {},
     "output_type": "execute_result"
    }
   ],
   "source": [
    "pdf.metadata"
   ]
  },
  {
   "cell_type": "code",
   "execution_count": 15,
   "id": "6cf5b56b-8b18-410d-8fa0-04ecfad1573c",
   "metadata": {
    "tags": []
   },
   "outputs": [],
   "source": [
    "toc = pdf.get_toc()"
   ]
  },
  {
   "cell_type": "code",
   "execution_count": 16,
   "id": "95c5148c-77f1-4142-a47d-7385afbbb491",
   "metadata": {
    "tags": []
   },
   "outputs": [
    {
     "data": {
      "text/plain": [
       "[[1,\n",
       "  'Accuracy and\\xa0efficiency of\\xa0germline variant calling pipelines for\\xa0human genome data',\n",
       "  1],\n",
       " [2, 'Materials and\\xa0methods', 2],\n",
       " [3, 'Sources of WGS benchmarking dataset acquisition. ', 2],\n",
       " [4, 'NA12878 (HG001) WGS data. ', 2],\n",
       " [4, '“Synthetic-diploid” WGS data. ', 2],\n",
       " [4, 'Simulated WGS data. ', 2],\n",
       " [3, 'Implementation of variant calling pipelines. ', 2],\n",
       " [3, 'Computing environment and resources. ', 4],\n",
       " [3, 'Benchmark consensus of VCF files. ', 4],\n",
       " [3, 'Definition of genome features for stratification analysis. ', 4],\n",
       " [2, 'Results', 4],\n",
       " [3, 'Quality summary of WGS datasets. ', 4],\n",
       " [3,\n",
       "  'Benchmarking of GATK, DRAGEN and DeepVariant variant calling pipelines. ',\n",
       "  4],\n",
       " [3, 'Stratification analysis of different genome contexts. ', 5],\n",
       " [3, 'Comparison of variant calling concordance. ', 5],\n",
       " [3, 'Comparison of execution time. ', 5],\n",
       " [2, 'Discussion', 8],\n",
       " [2, 'References', 11],\n",
       " [2, 'Acknowledgements', 12]]"
      ]
     },
     "execution_count": 16,
     "metadata": {},
     "output_type": "execute_result"
    }
   ],
   "source": [
    "toc"
   ]
  },
  {
   "cell_type": "code",
   "execution_count": 18,
   "id": "ad66aa6f-760e-4d31-b426-b163f768dff5",
   "metadata": {
    "tags": []
   },
   "outputs": [],
   "source": [
    "# for page in pdf:\n",
    "#     links = page.get_links()\n",
    "#     for link in links:\n",
    "#         print(link)"
   ]
  },
  {
   "cell_type": "code",
   "execution_count": 19,
   "id": "6bc7e830-0e1e-4887-847e-6b56db82ba12",
   "metadata": {
    "tags": []
   },
   "outputs": [],
   "source": [
    "import aspose.words as aw"
   ]
  },
  {
   "cell_type": "code",
   "execution_count": 20,
   "id": "4b76437d-6a2b-4666-b4ff-67864bd5f782",
   "metadata": {
    "tags": []
   },
   "outputs": [],
   "source": [
    "pdf_aw = aw.Document(pdf_file)"
   ]
  },
  {
   "cell_type": "code",
   "execution_count": 22,
   "id": "e681ed4e-cc1e-46c4-8663-79d6b5848813",
   "metadata": {
    "tags": []
   },
   "outputs": [],
   "source": [
    "pdf.save(f\"tmp/pdf.docx\")\n",
    "doc = aw.Document(\"tmp/pdf.docx\")\n",
    "shapes = doc.get_child_nodes(aw.NodeType.SHAPE, True)\n",
    "imageIndex = 0\n",
    "\n",
    "for shape in shapes:\n",
    "    shape = shape.as_shape()\n",
    "    if (shape.has_image):\n",
    "        imageFileName = f\"Image.ExportImages.{imageIndex}_{aw.FileFormatUtil.image_type_to_extension(shape.image_data.image_type)}\"\n",
    "        shape.image_data.save(f\"tmp/{imageFileName}\")\n",
    "        imageIndex += 1"
   ]
  },
  {
   "cell_type": "code",
   "execution_count": 28,
   "id": "6d70f0d9-ca7e-4642-9899-5907769ec5ca",
   "metadata": {
    "tags": []
   },
   "outputs": [],
   "source": [
    "import PyPDF2"
   ]
  },
  {
   "cell_type": "code",
   "execution_count": 29,
   "id": "68c74a30-7048-4211-90eb-953923e0bd2c",
   "metadata": {
    "tags": []
   },
   "outputs": [],
   "source": [
    "pdf2 = PyPDF2.PdfReader(open(pdf_file, \"rb\"))"
   ]
  },
  {
   "cell_type": "code",
   "execution_count": 30,
   "id": "0cf1b043-e7df-4001-b425-439debeb229e",
   "metadata": {
    "tags": []
   },
   "outputs": [
    {
     "data": {
      "text/plain": [
       "<bound method PdfReader.getNumPages of <PyPDF2._reader.PdfReader object at 0x7f13513b34c0>>"
      ]
     },
     "execution_count": 30,
     "metadata": {},
     "output_type": "execute_result"
    }
   ],
   "source": [
    "pdf2.getNumPages"
   ]
  },
  {
   "cell_type": "code",
   "execution_count": 34,
   "id": "fe9dcb69-afa4-4e77-b692-8c9e8148502c",
   "metadata": {
    "tags": []
   },
   "outputs": [
    {
     "name": "stdout",
     "output_type": "stream",
     "text": [
      "{'/CrossMarkDomains[1]': 'springer.com', '/Creator': 'Springer', '/ModDate': \"D:20201113191340+01'00'\", '/CreationDate': \"D:20201113142255+05'30'\", '/CrossmarkMajorVersionDate': '2010-04-23', '/Subject': 'Scientific Reports, https://doi.org/10.1038/s41598-020-77218-4', '/Author': 'Sen Zhao ', '/Title': 'Accuracy and efficiency of germline variant calling pipelines for human genome data', '/CrossmarkDomainExclusive': 'true', '/robots': 'noindex', '/Producer': 'Adobe PDF Library 15.0; modified using iText® 5.3.5 ©2000-2012 1T3XT BVBA (SPRINGER SBM; licensed version)', '/doi': '10.1038/s41598-020-77218-4', '/CrossMarkDomains[2]': 'springerlink.com'}\n",
      "1\n",
      "2\n",
      "3\n",
      "4\n",
      "5\n",
      "6\n",
      "7\n",
      "8\n",
      "9\n",
      "10\n",
      "11\n",
      "12\n"
     ]
    }
   ],
   "source": [
    "page_num = 1\n",
    "print(pdf2.metadata)\n",
    "print(pdf2.\n",
    "for page in pdf2.pages:\n",
    "    print(page_num)\n",
    "    for image in page.images:\n",
    "        print(image.name)\n",
    "        with open(f\"tmp/{page_num}_{image.name}\", \"wb\") as fp:\n",
    "            fp.write(image.data)\n",
    "    page_num += 1"
   ]
  },
  {
   "cell_type": "code",
   "execution_count": null,
   "id": "13005d9a-0996-4ac4-a264-b12882929de1",
   "metadata": {},
   "outputs": [],
   "source": []
  }
 ],
 "metadata": {
  "kernelspec": {
   "display_name": "Python 3 (ipykernel)",
   "language": "python",
   "name": "python3"
  },
  "language_info": {
   "codemirror_mode": {
    "name": "ipython",
    "version": 3
   },
   "file_extension": ".py",
   "mimetype": "text/x-python",
   "name": "python",
   "nbconvert_exporter": "python",
   "pygments_lexer": "ipython3",
   "version": "3.10.9"
  }
 },
 "nbformat": 4,
 "nbformat_minor": 5
}
