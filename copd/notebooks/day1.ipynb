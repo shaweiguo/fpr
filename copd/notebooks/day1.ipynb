{
 "cells": [
  {
   "cell_type": "code",
   "execution_count": 1,
   "id": "404d5699-9212-4e6d-93b9-7471f80a5b09",
   "metadata": {},
   "outputs": [],
   "source": [
    "import numpy as np\n",
    "import pandas as pd"
   ]
  },
  {
   "cell_type": "code",
   "execution_count": 2,
   "id": "924ca0ea-c780-402d-9b42-b17290f1ac4b",
   "metadata": {},
   "outputs": [],
   "source": [
    "lst = [5, 9, 11, -1, 4]\n",
    "nar = np.array([5, 9, 11, -1, 4])"
   ]
  },
  {
   "cell_type": "code",
   "execution_count": 3,
   "id": "f2b28780-41a2-45f3-96ba-119176dc716d",
   "metadata": {},
   "outputs": [
    {
     "name": "stdout",
     "output_type": "stream",
     "text": [
      "[5, 9, 11, -1, 4]\n",
      "[ 5  9 11 -1  4]\n"
     ]
    }
   ],
   "source": [
    "print(lst)\n",
    "print(nar)"
   ]
  },
  {
   "cell_type": "code",
   "execution_count": 4,
   "id": "35d9400f-7764-4a6e-9130-11f44285e0c2",
   "metadata": {},
   "outputs": [],
   "source": [
    "ser1 = pd.Series([5, 9, 11, -1, 4])"
   ]
  },
  {
   "cell_type": "code",
   "execution_count": 5,
   "id": "2f0b36b9-6baf-431d-8e94-7d120ede2c5f",
   "metadata": {},
   "outputs": [
    {
     "name": "stdout",
     "output_type": "stream",
     "text": [
      "0     5\n",
      "1     9\n",
      "2    11\n",
      "3    -1\n",
      "4     4\n",
      "dtype: int64\n"
     ]
    }
   ],
   "source": [
    "print(ser1)"
   ]
  },
  {
   "cell_type": "code",
   "execution_count": 6,
   "id": "f6890a90-e444-40d9-9f67-93ba5ac43f9a",
   "metadata": {},
   "outputs": [
    {
     "name": "stdout",
     "output_type": "stream",
     "text": [
      "[ 5  9 11 -1  4]\n"
     ]
    }
   ],
   "source": [
    "print(ser1.values)"
   ]
  },
  {
   "cell_type": "code",
   "execution_count": 7,
   "id": "ab41603b-0446-441e-af69-735540036291",
   "metadata": {},
   "outputs": [
    {
     "name": "stdout",
     "output_type": "stream",
     "text": [
      "RangeIndex(start=0, stop=5, step=1)\n"
     ]
    }
   ],
   "source": [
    "print(ser1.index)"
   ]
  },
  {
   "cell_type": "code",
   "execution_count": 8,
   "id": "301e3fb9-78c5-4db8-9e66-80d7519a120d",
   "metadata": {},
   "outputs": [
    {
     "name": "stdout",
     "output_type": "stream",
     "text": [
      "11\n"
     ]
    }
   ],
   "source": [
    "print(ser1[2])"
   ]
  },
  {
   "cell_type": "code",
   "execution_count": 9,
   "id": "3f577a27-966d-4109-913d-a0141572e370",
   "metadata": {},
   "outputs": [
    {
     "name": "stdout",
     "output_type": "stream",
     "text": [
      "11\n"
     ]
    }
   ],
   "source": [
    "print(nar[2])"
   ]
  },
  {
   "cell_type": "code",
   "execution_count": 10,
   "id": "70f13fab-2413-4664-8dad-61380cf2b4b5",
   "metadata": {},
   "outputs": [],
   "source": [
    "ser2 = pd.Series([5, 9, 11, -1, 4], index = ['a', 'b', 'c', 'd', 'a'])"
   ]
  },
  {
   "cell_type": "code",
   "execution_count": 11,
   "id": "5923dce1-6f2b-4e77-a442-ed916d67b728",
   "metadata": {},
   "outputs": [
    {
     "name": "stdout",
     "output_type": "stream",
     "text": [
      "a     5\n",
      "b     9\n",
      "c    11\n",
      "d    -1\n",
      "a     4\n",
      "dtype: int64\n"
     ]
    }
   ],
   "source": [
    "print(ser2)"
   ]
  },
  {
   "cell_type": "code",
   "execution_count": 12,
   "id": "73bc8bbf-58e7-4b35-914c-fd886e64de62",
   "metadata": {},
   "outputs": [
    {
     "name": "stdout",
     "output_type": "stream",
     "text": [
      "a    5\n",
      "a    4\n",
      "dtype: int64\n"
     ]
    }
   ],
   "source": [
    "print(ser2['a'])"
   ]
  },
  {
   "cell_type": "code",
   "execution_count": 13,
   "id": "933ff7bb-a537-4029-a6c0-0a90e94e59aa",
   "metadata": {},
   "outputs": [],
   "source": [
    "ser1.index = ['a', 'b', 'c', 'd', 'a']"
   ]
  },
  {
   "cell_type": "code",
   "execution_count": 14,
   "id": "d39a7518-578d-4a80-bcaf-97450f8d1a4e",
   "metadata": {},
   "outputs": [
    {
     "name": "stdout",
     "output_type": "stream",
     "text": [
      "a     5\n",
      "b     9\n",
      "c    11\n",
      "d    -1\n",
      "a     4\n",
      "dtype: int64\n"
     ]
    }
   ],
   "source": [
    "print(ser1)"
   ]
  },
  {
   "cell_type": "code",
   "execution_count": 15,
   "id": "79665339-2503-4d16-9b23-edd443256a55",
   "metadata": {},
   "outputs": [],
   "source": [
    "idx = ['a', 'b', 'c', 'd', 'a']\n",
    "ser3 = pd.Series(lst, index=idx)"
   ]
  },
  {
   "cell_type": "code",
   "execution_count": 16,
   "id": "fa05fa2b-cacc-462c-b439-70bd73fda6e4",
   "metadata": {},
   "outputs": [
    {
     "name": "stdout",
     "output_type": "stream",
     "text": [
      "a     5\n",
      "b     9\n",
      "c    11\n",
      "d    -1\n",
      "a     4\n",
      "dtype: int64\n"
     ]
    }
   ],
   "source": [
    "print(ser3)"
   ]
  },
  {
   "cell_type": "code",
   "execution_count": 17,
   "id": "acd998fd-f8fa-41fe-bdd9-76155ceb8ea4",
   "metadata": {},
   "outputs": [],
   "source": [
    "ser1.name = \"First series\""
   ]
  },
  {
   "cell_type": "code",
   "execution_count": 18,
   "id": "079e1fc0-22e6-4389-bd6b-459a456e37bc",
   "metadata": {},
   "outputs": [
    {
     "name": "stdout",
     "output_type": "stream",
     "text": [
      "a     5\n",
      "b     9\n",
      "c    11\n",
      "d    -1\n",
      "a     4\n",
      "Name: First series, dtype: int64\n"
     ]
    }
   ],
   "source": [
    "print(ser1)"
   ]
  },
  {
   "cell_type": "code",
   "execution_count": 19,
   "id": "e89016bc-5fb0-4e36-b72b-f073739caa43",
   "metadata": {},
   "outputs": [],
   "source": [
    "ser1.index.name = \"Character\""
   ]
  },
  {
   "cell_type": "code",
   "execution_count": 20,
   "id": "ae78d97a-1463-4f77-a69f-f73dd6614153",
   "metadata": {},
   "outputs": [
    {
     "name": "stdout",
     "output_type": "stream",
     "text": [
      "Character\n",
      "a     5\n",
      "b     9\n",
      "c    11\n",
      "d    -1\n",
      "a     4\n",
      "Name: First series, dtype: int64\n"
     ]
    }
   ],
   "source": [
    "print(ser1)"
   ]
  },
  {
   "cell_type": "code",
   "execution_count": 21,
   "id": "03727122-78d1-471f-86b0-96999b8debca",
   "metadata": {},
   "outputs": [],
   "source": [
    "ser4 = pd.Series(lst, index=idx, dtype=float)"
   ]
  },
  {
   "cell_type": "code",
   "execution_count": 22,
   "id": "155dd6b8-fa83-4ad4-b1de-51476545fade",
   "metadata": {},
   "outputs": [
    {
     "name": "stdout",
     "output_type": "stream",
     "text": [
      "a     5.0\n",
      "b     9.0\n",
      "c    11.0\n",
      "d    -1.0\n",
      "a     4.0\n",
      "dtype: float64\n"
     ]
    }
   ],
   "source": [
    "print(ser4)"
   ]
  },
  {
   "cell_type": "code",
   "execution_count": 23,
   "id": "0fe7458d-1b00-4ed8-b21c-2d2a63356086",
   "metadata": {},
   "outputs": [
    {
     "name": "stdout",
     "output_type": "stream",
     "text": [
      "[ 5  9 11 -1  4]\n"
     ]
    }
   ],
   "source": [
    "print(nar)"
   ]
  },
  {
   "cell_type": "code",
   "execution_count": 24,
   "id": "93cbf3e1-6a10-4692-bc11-6c3b439b4a4c",
   "metadata": {},
   "outputs": [
    {
     "name": "stdout",
     "output_type": "stream",
     "text": [
      "int32\n"
     ]
    }
   ],
   "source": [
    "print(nar.dtype)"
   ]
  },
  {
   "cell_type": "code",
   "execution_count": 25,
   "id": "2750399d-b66f-4c92-bd2c-17fed70f4b97",
   "metadata": {},
   "outputs": [],
   "source": [
    "ser5 = pd.Series(nar)"
   ]
  },
  {
   "cell_type": "code",
   "execution_count": 26,
   "id": "2ac289ad-82a8-4bd9-9a75-99e3876947bc",
   "metadata": {},
   "outputs": [
    {
     "name": "stdout",
     "output_type": "stream",
     "text": [
      "0     5\n",
      "1     9\n",
      "2    11\n",
      "3    -1\n",
      "4     4\n",
      "dtype: int32\n"
     ]
    }
   ],
   "source": [
    "print(ser5)"
   ]
  },
  {
   "cell_type": "code",
   "execution_count": 27,
   "id": "9effa718-03df-4cd7-8bf2-cf5912ac346b",
   "metadata": {},
   "outputs": [],
   "source": [
    "ser5 = pd.Series(nar, dtype=np.int64)"
   ]
  },
  {
   "cell_type": "code",
   "execution_count": 28,
   "id": "406e1bca-767f-4ffe-ab49-db3f3fa8a132",
   "metadata": {},
   "outputs": [
    {
     "name": "stdout",
     "output_type": "stream",
     "text": [
      "0     5\n",
      "1     9\n",
      "2    11\n",
      "3    -1\n",
      "4     4\n",
      "dtype: int64\n"
     ]
    }
   ],
   "source": [
    "print(ser5)"
   ]
  },
  {
   "cell_type": "code",
   "execution_count": 29,
   "id": "8d6770f3-9a57-4dd1-8656-ce84afb61cad",
   "metadata": {},
   "outputs": [],
   "source": [
    "nar[0] = 0"
   ]
  },
  {
   "cell_type": "code",
   "execution_count": 30,
   "id": "60307180-ab31-4fb8-abfe-be35f62e5f57",
   "metadata": {},
   "outputs": [
    {
     "name": "stdout",
     "output_type": "stream",
     "text": [
      "0     5\n",
      "1     9\n",
      "2    11\n",
      "3    -1\n",
      "4     4\n",
      "dtype: int64\n"
     ]
    }
   ],
   "source": [
    "print(ser5)"
   ]
  },
  {
   "cell_type": "code",
   "execution_count": 32,
   "id": "1528479d-2fdf-4cea-967a-de8a985bc281",
   "metadata": {},
   "outputs": [],
   "source": [
    "ser5[4] = 5"
   ]
  },
  {
   "cell_type": "code",
   "execution_count": 33,
   "id": "dc9e16e5-a72c-454f-ba70-2242715c5f29",
   "metadata": {},
   "outputs": [
    {
     "name": "stdout",
     "output_type": "stream",
     "text": [
      "[ 0  9 11 -1  4]\n"
     ]
    }
   ],
   "source": [
    "print(nar)"
   ]
  },
  {
   "cell_type": "code",
   "execution_count": 34,
   "id": "027845af-60c8-437f-8a27-01533098fccb",
   "metadata": {},
   "outputs": [],
   "source": [
    "n = np.array([1,2,3,4])"
   ]
  },
  {
   "cell_type": "code",
   "execution_count": 35,
   "id": "2e1f472d-b1fa-416a-aa19-ff6c983a91d8",
   "metadata": {},
   "outputs": [],
   "source": [
    "ser = pd.Series(n)"
   ]
  },
  {
   "cell_type": "code",
   "execution_count": 36,
   "id": "991315e9-d2f9-4d19-b512-3531b2a14e24",
   "metadata": {},
   "outputs": [
    {
     "name": "stdout",
     "output_type": "stream",
     "text": [
      "0    1\n",
      "1    2\n",
      "2    3\n",
      "3    4\n",
      "dtype: int32\n"
     ]
    }
   ],
   "source": [
    "print(ser)"
   ]
  },
  {
   "cell_type": "code",
   "execution_count": 37,
   "id": "549ed236-35de-42af-a577-4ead64564c03",
   "metadata": {},
   "outputs": [],
   "source": [
    "n[3] = 0"
   ]
  },
  {
   "cell_type": "code",
   "execution_count": 38,
   "id": "e4757524-bbe5-464d-91f9-bac4449a1bbc",
   "metadata": {},
   "outputs": [
    {
     "name": "stdout",
     "output_type": "stream",
     "text": [
      "0    1\n",
      "1    2\n",
      "2    3\n",
      "3    0\n",
      "dtype: int32\n"
     ]
    }
   ],
   "source": [
    "print(ser)"
   ]
  },
  {
   "cell_type": "code",
   "execution_count": 39,
   "id": "dfdebaed-9fe9-47d5-928c-d5eaaf2a4d4b",
   "metadata": {},
   "outputs": [],
   "source": [
    "ser[3] = 4"
   ]
  },
  {
   "cell_type": "code",
   "execution_count": 40,
   "id": "aee59311-fe36-4958-a092-e2efaef43a32",
   "metadata": {},
   "outputs": [
    {
     "name": "stdout",
     "output_type": "stream",
     "text": [
      "[1 2 3 4]\n"
     ]
    }
   ],
   "source": [
    "print(n)"
   ]
  },
  {
   "cell_type": "code",
   "execution_count": 41,
   "id": "bfa99ef4-a7ff-4d8e-b0ea-2f7082e2b4ac",
   "metadata": {},
   "outputs": [
    {
     "name": "stdout",
     "output_type": "stream",
     "text": [
      "0    1\n",
      "1    2\n",
      "2    3\n",
      "3    4\n",
      "dtype: int32\n"
     ]
    }
   ],
   "source": [
    "print(ser)"
   ]
  },
  {
   "cell_type": "code",
   "execution_count": 42,
   "id": "98033dfb-8e71-4ae4-a010-858220dc6784",
   "metadata": {},
   "outputs": [],
   "source": [
    "ser6 = pd.Series(np.random.randn(5))"
   ]
  },
  {
   "cell_type": "code",
   "execution_count": 43,
   "id": "efb1ecf6-93f1-461b-9ba9-099e4e347ebd",
   "metadata": {},
   "outputs": [
    {
     "name": "stdout",
     "output_type": "stream",
     "text": [
      "0    1.468492\n",
      "1    0.182280\n",
      "2   -1.356522\n",
      "3   -1.150014\n",
      "4   -0.227964\n",
      "dtype: float64\n"
     ]
    }
   ],
   "source": [
    "print(ser6)"
   ]
  },
  {
   "cell_type": "code",
   "execution_count": 44,
   "id": "13e0838d-fbb6-4850-9a17-fbaa5f9555e2",
   "metadata": {},
   "outputs": [],
   "source": [
    "ser7 = pd.Series(np.arange(1, 6))"
   ]
  },
  {
   "cell_type": "code",
   "execution_count": 45,
   "id": "bb450f3f-7c00-416f-abe7-73ea65c1cad6",
   "metadata": {},
   "outputs": [
    {
     "name": "stdout",
     "output_type": "stream",
     "text": [
      "0    1\n",
      "1    2\n",
      "2    3\n",
      "3    4\n",
      "4    5\n",
      "dtype: int32\n"
     ]
    }
   ],
   "source": [
    "print(ser7)"
   ]
  },
  {
   "cell_type": "code",
   "execution_count": 46,
   "id": "f3d7e61a-a730-4ca9-bb36-8d97df778ab9",
   "metadata": {},
   "outputs": [
    {
     "name": "stdout",
     "output_type": "stream",
     "text": [
      "0    0.0\n",
      "1    0.0\n",
      "2    0.0\n",
      "3    0.0\n",
      "dtype: float64\n"
     ]
    }
   ],
   "source": [
    "ser8 = pd.Series(np.zeros(4))\n",
    "print(ser8)"
   ]
  },
  {
   "cell_type": "code",
   "execution_count": 47,
   "id": "56bb4976-f3cf-469e-be66-ca621c62483e",
   "metadata": {},
   "outputs": [
    {
     "name": "stdout",
     "output_type": "stream",
     "text": [
      "a    8\n",
      "b    8\n",
      "c    8\n",
      "d    8\n",
      "a    8\n",
      "dtype: int64\n"
     ]
    }
   ],
   "source": [
    "ser9 = pd.Series(8, index=idx)\n",
    "print(ser9)"
   ]
  },
  {
   "cell_type": "code",
   "execution_count": 48,
   "id": "d266aae4-b120-4d7e-9380-00361c3b7a1a",
   "metadata": {},
   "outputs": [
    {
     "name": "stdout",
     "output_type": "stream",
     "text": [
      "a    12\n",
      "b    -1\n",
      "c     3\n",
      "dtype: int64\n"
     ]
    }
   ],
   "source": [
    "d = {'a': 12, 'b': -1, 'c': 3}\n",
    "ser10 = pd.Series(d)\n",
    "print(ser10)"
   ]
  },
  {
   "cell_type": "code",
   "execution_count": 50,
   "id": "4bbe9efa-330d-407d-b0ab-1e605da3bd4f",
   "metadata": {},
   "outputs": [
    {
     "name": "stdout",
     "output_type": "stream",
     "text": [
      "a    12\n",
      "b    -1\n",
      "d    88\n",
      "dtype: int64\n"
     ]
    }
   ],
   "source": [
    "d = {'a': 12, 'b': -1, 'c': 3, 'd': 88}\n",
    "idx = pd.Index(['a', 'b', 'd'])\n",
    "ser11 = pd.Series(d, idx)\n",
    "print(ser11)"
   ]
  },
  {
   "cell_type": "code",
   "execution_count": 51,
   "id": "9f2a8584-d9f6-4b1e-a056-5c45ba9c209b",
   "metadata": {},
   "outputs": [
    {
     "name": "stdout",
     "output_type": "stream",
     "text": [
      "a    2\n",
      "b    4\n",
      "c    3\n",
      "dtype: int64\n"
     ]
    }
   ],
   "source": [
    "t = [['a',2],['b',4],['c',3]]\n",
    "idx, values = zip(*t)\n",
    "ser12 = pd.Series(values, idx)\n",
    "print(ser12)"
   ]
  },
  {
   "cell_type": "code",
   "execution_count": null,
   "id": "536ec7ce-d161-401a-bc99-a0c477d188d4",
   "metadata": {},
   "outputs": [],
   "source": []
  }
 ],
 "metadata": {
  "kernelspec": {
   "display_name": "Python 3 (ipykernel)",
   "language": "python",
   "name": "python3"
  },
  "language_info": {
   "codemirror_mode": {
    "name": "ipython",
    "version": 3
   },
   "file_extension": ".py",
   "mimetype": "text/x-python",
   "name": "python",
   "nbconvert_exporter": "python",
   "pygments_lexer": "ipython3",
   "version": "3.10.8"
  }
 },
 "nbformat": 4,
 "nbformat_minor": 5
}
