{
 "cells": [
  {
   "cell_type": "code",
   "execution_count": 1,
   "id": "aa9101f5-a877-4120-93e8-cbe9d8d71df6",
   "metadata": {},
   "outputs": [],
   "source": [
    "import numpy as np"
   ]
  },
  {
   "cell_type": "code",
   "execution_count": 3,
   "id": "da0e18dc-769c-4ac3-bad8-9ee32cb3ad40",
   "metadata": {},
   "outputs": [],
   "source": [
    "A = np.array([[0,3,-4],[-3,0,1],[4,-1,0]])"
   ]
  },
  {
   "cell_type": "code",
   "execution_count": 4,
   "id": "20c99f8f-f46e-4055-94d2-1be1b67e8d09",
   "metadata": {},
   "outputs": [
    {
     "data": {
      "text/plain": [
       "array([[ 0,  3, -4],\n",
       "       [-3,  0,  1],\n",
       "       [ 4, -1,  0]])"
      ]
     },
     "execution_count": 4,
     "metadata": {},
     "output_type": "execute_result"
    }
   ],
   "source": [
    "A"
   ]
  },
  {
   "cell_type": "code",
   "execution_count": 5,
   "id": "ed544db8-238c-4d06-a6d5-3b7fe4f9bc5b",
   "metadata": {},
   "outputs": [
    {
     "data": {
      "text/plain": [
       "array([[  0,  -9, -16],\n",
       "       [ -9,   0,  -1],\n",
       "       [-16,  -1,   0]])"
      ]
     },
     "execution_count": 5,
     "metadata": {},
     "output_type": "execute_result"
    }
   ],
   "source": [
    "A.T*A"
   ]
  },
  {
   "cell_type": "code",
   "execution_count": 6,
   "id": "3f2dbffa-8680-4163-8958-635e8da79edb",
   "metadata": {},
   "outputs": [
    {
     "data": {
      "text/plain": [
       "array([[  0,  -9, -16],\n",
       "       [ -9,   0,  -1],\n",
       "       [-16,  -1,   0]])"
      ]
     },
     "execution_count": 6,
     "metadata": {},
     "output_type": "execute_result"
    }
   ],
   "source": [
    "A*A.T"
   ]
  },
  {
   "cell_type": "code",
   "execution_count": 8,
   "id": "19cb27b5-0dc1-4199-aa39-e2305b187765",
   "metadata": {},
   "outputs": [
    {
     "data": {
      "text/plain": [
       "array([[0, 0, 0],\n",
       "       [0, 0, 0],\n",
       "       [0, 0, 0]])"
      ]
     },
     "execution_count": 8,
     "metadata": {},
     "output_type": "execute_result"
    }
   ],
   "source": [
    "A.T+A"
   ]
  },
  {
   "cell_type": "code",
   "execution_count": null,
   "id": "6974eae6-9eef-4951-9059-bc72dc439e0a",
   "metadata": {},
   "outputs": [],
   "source": []
  }
 ],
 "metadata": {
  "kernelspec": {
   "display_name": "Python 3 (ipykernel)",
   "language": "python",
   "name": "python3"
  },
  "language_info": {
   "codemirror_mode": {
    "name": "ipython",
    "version": 3
   },
   "file_extension": ".py",
   "mimetype": "text/x-python",
   "name": "python",
   "nbconvert_exporter": "python",
   "pygments_lexer": "ipython3",
   "version": "3.10.9"
  }
 },
 "nbformat": 4,
 "nbformat_minor": 5
}
