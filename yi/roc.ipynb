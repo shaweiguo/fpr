{
 "cells": [
  {
   "cell_type": "code",
   "execution_count": 1,
   "id": "45ec55fd-ef4c-4540-b199-77c53779d9ce",
   "metadata": {
    "tags": []
   },
   "outputs": [],
   "source": [
    "from sklearn.metrics import roc_curve, auc"
   ]
  },
  {
   "cell_type": "code",
   "execution_count": 2,
   "id": "162f6af8-2ae8-4643-8e3b-6b944bf26d6f",
   "metadata": {
    "tags": []
   },
   "outputs": [],
   "source": [
    "import matplotlib.pyplot as plt"
   ]
  },
  {
   "cell_type": "code",
   "execution_count": 3,
   "id": "b743870d-d01a-4caf-b9e8-0584a7df775b",
   "metadata": {
    "tags": []
   },
   "outputs": [],
   "source": [
    "y_label = ([1, 1, 1, 2, 2, 2])\n",
    "y_pre = ([0.3, 0.5, 0.9, 0.8, 0.4, 0.6])"
   ]
  },
  {
   "cell_type": "code",
   "execution_count": 5,
   "id": "aa623fcf-0189-4e8a-b921-a988908c2361",
   "metadata": {
    "tags": []
   },
   "outputs": [],
   "source": [
    "fpr, tpr, thresholds = roc_curve(y_label, y_pre, pos_label=2)"
   ]
  },
  {
   "cell_type": "code",
   "execution_count": null,
   "id": "2282d604-7c10-4ea5-8454-2e84df38345e",
   "metadata": {},
   "outputs": [],
   "source": [
    "# for i, value in enumerate(thresholds):\n",
    "    # print(\"%f %f %f\" % (fpr[i], tpr[i],\n"
   ]
  },
  {
   "cell_type": "code",
   "execution_count": 6,
   "id": "3c56e7e6-8834-486e-8685-bbb33b761bb7",
   "metadata": {
    "tags": []
   },
   "outputs": [],
   "source": [
    "import numpy as np\n",
    "from sklearn.metrics import accuracy_score, confusion_matrix, roc_auc_score, roc_curve"
   ]
  },
  {
   "cell_type": "code",
   "execution_count": 7,
   "id": "b67bb9ac-718b-4ba3-98ac-8ebddfc6c93d",
   "metadata": {
    "tags": []
   },
   "outputs": [],
   "source": [
    "n = 10000\n",
    "ratio = .95\n",
    "n_0 = int((1-ratio)*n)\n",
    "n_1 = int(ratio*n)"
   ]
  },
  {
   "cell_type": "code",
   "execution_count": 8,
   "id": "74f1387f-9d73-4f3f-ab37-be327c693d3b",
   "metadata": {
    "tags": []
   },
   "outputs": [
    {
     "data": {
      "text/plain": [
       "(500, 9500)"
      ]
     },
     "execution_count": 8,
     "metadata": {},
     "output_type": "execute_result"
    }
   ],
   "source": [
    "n_0, n_1"
   ]
  },
  {
   "cell_type": "code",
   "execution_count": 9,
   "id": "2edce812-2d11-4c81-b39f-5959800ecad2",
   "metadata": {
    "tags": []
   },
   "outputs": [],
   "source": [
    "y = np.array([0] * n_0 + [1] * n_1)"
   ]
  },
  {
   "cell_type": "code",
   "execution_count": 10,
   "id": "100904da-6327-4a66-ba22-e16efdf21889",
   "metadata": {
    "tags": []
   },
   "outputs": [
    {
     "data": {
      "text/plain": [
       "array([0, 0, 0, ..., 1, 1, 1])"
      ]
     },
     "execution_count": 10,
     "metadata": {},
     "output_type": "execute_result"
    }
   ],
   "source": [
    "y"
   ]
  },
  {
   "cell_type": "code",
   "execution_count": 11,
   "id": "034fc933-a7d4-4296-a0d6-1461f6515eb6",
   "metadata": {
    "tags": []
   },
   "outputs": [],
   "source": [
    "y_proba = np.array([1] * n)\n",
    "y_pred = y_proba > .5"
   ]
  },
  {
   "cell_type": "code",
   "execution_count": 12,
   "id": "a5b11e4b-b363-4291-85aa-a6f8a0538c9a",
   "metadata": {
    "tags": []
   },
   "outputs": [
    {
     "data": {
      "text/plain": [
       "array([1, 1, 1, ..., 1, 1, 1])"
      ]
     },
     "execution_count": 12,
     "metadata": {},
     "output_type": "execute_result"
    }
   ],
   "source": [
    "y_proba"
   ]
  },
  {
   "cell_type": "code",
   "execution_count": 13,
   "id": "a41204f4-e84c-45ca-adc5-ba6dce89a1b5",
   "metadata": {
    "tags": []
   },
   "outputs": [
    {
     "data": {
      "text/plain": [
       "array([ True,  True,  True, ...,  True,  True,  True])"
      ]
     },
     "execution_count": 13,
     "metadata": {},
     "output_type": "execute_result"
    }
   ],
   "source": [
    "y_pred"
   ]
  },
  {
   "cell_type": "code",
   "execution_count": 14,
   "id": "22d0962b-f330-4517-aace-53e2e59d2aaf",
   "metadata": {
    "tags": []
   },
   "outputs": [
    {
     "name": "stdout",
     "output_type": "stream",
     "text": [
      "accuracy score: 0.95\n"
     ]
    }
   ],
   "source": [
    "print(f'accuracy score: {accuracy_score(y, y_pred)}')"
   ]
  },
  {
   "cell_type": "code",
   "execution_count": 15,
   "id": "e01baf18-2d15-4f17-8cad-9241a749e1c7",
   "metadata": {
    "tags": []
   },
   "outputs": [
    {
     "name": "stdout",
     "output_type": "stream",
     "text": [
      "Confusion matrix\n",
      "[[   0  500]\n",
      " [   0 9500]]\n",
      "class 0 accuracy: 0.0\n",
      "class 1 accuracy: 1.0\n"
     ]
    }
   ],
   "source": [
    "cf_mat = confusion_matrix(y, y_pred)\n",
    "print('Confusion matrix')\n",
    "print(cf_mat)\n",
    "print(f'class 0 accuracy: {cf_mat[0][0]/n_0}')\n",
    "print(f'class 1 accuracy: {cf_mat[1][1]/n_1}')"
   ]
  },
  {
   "cell_type": "code",
   "execution_count": null,
   "id": "b8a82def-bf4f-4115-91e7-ac03611a2cad",
   "metadata": {},
   "outputs": [],
   "source": []
  }
 ],
 "metadata": {
  "kernelspec": {
   "display_name": "Python 3 (ipykernel)",
   "language": "python",
   "name": "python3"
  },
  "language_info": {
   "codemirror_mode": {
    "name": "ipython",
    "version": 3
   },
   "file_extension": ".py",
   "mimetype": "text/x-python",
   "name": "python",
   "nbconvert_exporter": "python",
   "pygments_lexer": "ipython3",
   "version": "3.10.9"
  }
 },
 "nbformat": 4,
 "nbformat_minor": 5
}
