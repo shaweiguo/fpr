{
 "cells": [
  {
   "cell_type": "code",
   "execution_count": 8,
   "id": "a6ac6b0a-7940-49df-8061-743ae2a40b6b",
   "metadata": {
    "tags": []
   },
   "outputs": [],
   "source": [
    "import numpy as np\n",
    "from numpy import loadtxt"
   ]
  },
  {
   "cell_type": "code",
   "execution_count": 2,
   "id": "d968f983-f9e8-47df-a61b-d21dd57bfdb8",
   "metadata": {
    "tags": []
   },
   "outputs": [],
   "source": [
    "dataA = loadtxt('data/classA_trn.dat')\n",
    "dataB = loadtxt('data/classB_trn.dat')"
   ]
  },
  {
   "cell_type": "code",
   "execution_count": 4,
   "id": "8c7502b9-e34f-4b10-a07c-34a5b1087b9b",
   "metadata": {
    "tags": []
   },
   "outputs": [
    {
     "data": {
      "text/plain": [
       "250"
      ]
     },
     "execution_count": 4,
     "metadata": {},
     "output_type": "execute_result"
    }
   ],
   "source": [
    "len(dataA)"
   ]
  },
  {
   "cell_type": "code",
   "execution_count": null,
   "id": "cd533301-fa2a-46a2-8daa-8aa3bfed2865",
   "metadata": {},
   "outputs": [],
   "source": []
  },
  {
   "cell_type": "code",
   "execution_count": 5,
   "id": "a4ef69ea-6f44-4a1f-ac89-b11bec8a4d8c",
   "metadata": {
    "tags": []
   },
   "outputs": [
    {
     "data": {
      "text/plain": [
       "100"
      ]
     },
     "execution_count": 5,
     "metadata": {},
     "output_type": "execute_result"
    }
   ],
   "source": [
    "len(dataB)"
   ]
  },
  {
   "cell_type": "code",
   "execution_count": 7,
   "id": "083722ad-fe54-4380-8e0c-704d0ee34716",
   "metadata": {
    "tags": []
   },
   "outputs": [
    {
     "data": {
      "text/plain": [
       "numpy.ndarray"
      ]
     },
     "execution_count": 7,
     "metadata": {},
     "output_type": "execute_result"
    }
   ],
   "source": [
    "type(dataA)"
   ]
  },
  {
   "cell_type": "code",
   "execution_count": 11,
   "id": "8ca8f673-f9cf-4826-9b8b-193a4cedd8a6",
   "metadata": {
    "tags": []
   },
   "outputs": [],
   "source": [
    "dataYA = np.zeros((250, 1), int)"
   ]
  },
  {
   "cell_type": "code",
   "execution_count": 13,
   "id": "82f5601e-d038-4b03-a951-d80b5481cc1c",
   "metadata": {
    "tags": []
   },
   "outputs": [],
   "source": [
    "dataYB = np.ones((100, 1), int)"
   ]
  },
  {
   "cell_type": "code",
   "execution_count": 15,
   "id": "935129a3-6431-469e-aba6-e2864e32fab6",
   "metadata": {
    "tags": []
   },
   "outputs": [],
   "source": [
    "dataA = np.concatenate([dataA, dataYA], axis=1)"
   ]
  },
  {
   "cell_type": "code",
   "execution_count": 17,
   "id": "d76c1e7b-73aa-462f-bb33-3a915fff37cb",
   "metadata": {
    "tags": []
   },
   "outputs": [],
   "source": [
    "dataB = np.concatenate([dataB, dataYB], axis=1)"
   ]
  },
  {
   "cell_type": "code",
   "execution_count": 18,
   "id": "6601a7cf-4a08-493f-9dd0-4fef5e314468",
   "metadata": {
    "tags": []
   },
   "outputs": [],
   "source": [
    "data = np.concatenate([dataA, dataB])"
   ]
  },
  {
   "cell_type": "code",
   "execution_count": 19,
   "id": "3b61ca1a-4fdc-476e-ab5f-eca2fe562113",
   "metadata": {
    "tags": []
   },
   "outputs": [
    {
     "data": {
      "text/plain": [
       "array([[-0.33171371,  0.57734411,  3.54717841,  0.        ],\n",
       "       [ 2.70680861,  0.43402881,  4.71331105,  0.        ],\n",
       "       [ 0.40465598,  2.62619979,  3.57616767,  0.        ],\n",
       "       ...,\n",
       "       [ 2.20526982,  0.47401295,  3.27001854,  1.        ],\n",
       "       [ 1.8347271 ,  3.60125731,  1.55963864,  1.        ],\n",
       "       [ 1.77159088,  1.18338445,  1.85177492,  1.        ]])"
      ]
     },
     "execution_count": 19,
     "metadata": {},
     "output_type": "execute_result"
    }
   ],
   "source": [
    "data"
   ]
  },
  {
   "cell_type": "code",
   "execution_count": 20,
   "id": "4a8af48f-1117-40cb-9126-373482dd3084",
   "metadata": {
    "tags": []
   },
   "outputs": [],
   "source": [
    "from sklearn.discriminant_analysis import QuadraticDiscriminantAnalysis"
   ]
  },
  {
   "cell_type": "code",
   "execution_count": 21,
   "id": "b2cd5ce9-0ae3-4e2f-a814-ae0087d96c5c",
   "metadata": {
    "tags": []
   },
   "outputs": [],
   "source": [
    "dataA = loadtxt('data/classA_trn.dat')\n",
    "dataB = loadtxt('data/classB_trn.dat')"
   ]
  },
  {
   "cell_type": "code",
   "execution_count": 22,
   "id": "0b266e67-0218-4d8b-8757-46ed6bd15b48",
   "metadata": {
    "tags": []
   },
   "outputs": [],
   "source": [
    "dataX = np.concatenate([dataA, dataB])"
   ]
  },
  {
   "cell_type": "code",
   "execution_count": 23,
   "id": "4ab9e1e5-a3af-4f75-b34a-efedae0d1655",
   "metadata": {
    "tags": []
   },
   "outputs": [
    {
     "data": {
      "text/plain": [
       "array([[-0.33171371,  0.57734411,  3.54717841],\n",
       "       [ 2.70680861,  0.43402881,  4.71331105],\n",
       "       [ 0.40465598,  2.62619979,  3.57616767],\n",
       "       ...,\n",
       "       [ 2.20526982,  0.47401295,  3.27001854],\n",
       "       [ 1.8347271 ,  3.60125731,  1.55963864],\n",
       "       [ 1.77159088,  1.18338445,  1.85177492]])"
      ]
     },
     "execution_count": 23,
     "metadata": {},
     "output_type": "execute_result"
    }
   ],
   "source": [
    "dataX"
   ]
  },
  {
   "cell_type": "code",
   "execution_count": 25,
   "id": "d62900b3-f4cd-43a2-b024-7d9bfe30b76e",
   "metadata": {
    "tags": []
   },
   "outputs": [],
   "source": [
    "dataY = np.concatenate([np.zeros((250, 1)), np.ones((100, 1))])"
   ]
  },
  {
   "cell_type": "code",
   "execution_count": 26,
   "id": "9abdd62b-ad87-4e42-a3c7-99dfd1372511",
   "metadata": {
    "tags": []
   },
   "outputs": [],
   "source": [
    "clf = QuadraticDiscriminantAnalysis()"
   ]
  },
  {
   "cell_type": "code",
   "execution_count": 28,
   "id": "66422706-597a-4777-bec8-90c96f769815",
   "metadata": {
    "tags": []
   },
   "outputs": [
    {
     "name": "stderr",
     "output_type": "stream",
     "text": [
      "/home/sha/work/_p310/lib/python3.10/site-packages/sklearn/utils/validation.py:1143: DataConversionWarning: A column-vector y was passed when a 1d array was expected. Please change the shape of y to (n_samples, ), for example using ravel().\n",
      "  y = column_or_1d(y, warn=True)\n"
     ]
    },
    {
     "data": {
      "text/html": [
       "<style>#sk-container-id-1 {color: black;background-color: white;}#sk-container-id-1 pre{padding: 0;}#sk-container-id-1 div.sk-toggleable {background-color: white;}#sk-container-id-1 label.sk-toggleable__label {cursor: pointer;display: block;width: 100%;margin-bottom: 0;padding: 0.3em;box-sizing: border-box;text-align: center;}#sk-container-id-1 label.sk-toggleable__label-arrow:before {content: \"▸\";float: left;margin-right: 0.25em;color: #696969;}#sk-container-id-1 label.sk-toggleable__label-arrow:hover:before {color: black;}#sk-container-id-1 div.sk-estimator:hover label.sk-toggleable__label-arrow:before {color: black;}#sk-container-id-1 div.sk-toggleable__content {max-height: 0;max-width: 0;overflow: hidden;text-align: left;background-color: #f0f8ff;}#sk-container-id-1 div.sk-toggleable__content pre {margin: 0.2em;color: black;border-radius: 0.25em;background-color: #f0f8ff;}#sk-container-id-1 input.sk-toggleable__control:checked~div.sk-toggleable__content {max-height: 200px;max-width: 100%;overflow: auto;}#sk-container-id-1 input.sk-toggleable__control:checked~label.sk-toggleable__label-arrow:before {content: \"▾\";}#sk-container-id-1 div.sk-estimator input.sk-toggleable__control:checked~label.sk-toggleable__label {background-color: #d4ebff;}#sk-container-id-1 div.sk-label input.sk-toggleable__control:checked~label.sk-toggleable__label {background-color: #d4ebff;}#sk-container-id-1 input.sk-hidden--visually {border: 0;clip: rect(1px 1px 1px 1px);clip: rect(1px, 1px, 1px, 1px);height: 1px;margin: -1px;overflow: hidden;padding: 0;position: absolute;width: 1px;}#sk-container-id-1 div.sk-estimator {font-family: monospace;background-color: #f0f8ff;border: 1px dotted black;border-radius: 0.25em;box-sizing: border-box;margin-bottom: 0.5em;}#sk-container-id-1 div.sk-estimator:hover {background-color: #d4ebff;}#sk-container-id-1 div.sk-parallel-item::after {content: \"\";width: 100%;border-bottom: 1px solid gray;flex-grow: 1;}#sk-container-id-1 div.sk-label:hover label.sk-toggleable__label {background-color: #d4ebff;}#sk-container-id-1 div.sk-serial::before {content: \"\";position: absolute;border-left: 1px solid gray;box-sizing: border-box;top: 0;bottom: 0;left: 50%;z-index: 0;}#sk-container-id-1 div.sk-serial {display: flex;flex-direction: column;align-items: center;background-color: white;padding-right: 0.2em;padding-left: 0.2em;position: relative;}#sk-container-id-1 div.sk-item {position: relative;z-index: 1;}#sk-container-id-1 div.sk-parallel {display: flex;align-items: stretch;justify-content: center;background-color: white;position: relative;}#sk-container-id-1 div.sk-item::before, #sk-container-id-1 div.sk-parallel-item::before {content: \"\";position: absolute;border-left: 1px solid gray;box-sizing: border-box;top: 0;bottom: 0;left: 50%;z-index: -1;}#sk-container-id-1 div.sk-parallel-item {display: flex;flex-direction: column;z-index: 1;position: relative;background-color: white;}#sk-container-id-1 div.sk-parallel-item:first-child::after {align-self: flex-end;width: 50%;}#sk-container-id-1 div.sk-parallel-item:last-child::after {align-self: flex-start;width: 50%;}#sk-container-id-1 div.sk-parallel-item:only-child::after {width: 0;}#sk-container-id-1 div.sk-dashed-wrapped {border: 1px dashed gray;margin: 0 0.4em 0.5em 0.4em;box-sizing: border-box;padding-bottom: 0.4em;background-color: white;}#sk-container-id-1 div.sk-label label {font-family: monospace;font-weight: bold;display: inline-block;line-height: 1.2em;}#sk-container-id-1 div.sk-label-container {text-align: center;}#sk-container-id-1 div.sk-container {/* jupyter's `normalize.less` sets `[hidden] { display: none; }` but bootstrap.min.css set `[hidden] { display: none !important; }` so we also need the `!important` here to be able to override the default hidden behavior on the sphinx rendered scikit-learn.org. See: https://github.com/scikit-learn/scikit-learn/issues/21755 */display: inline-block !important;position: relative;}#sk-container-id-1 div.sk-text-repr-fallback {display: none;}</style><div id=\"sk-container-id-1\" class=\"sk-top-container\"><div class=\"sk-text-repr-fallback\"><pre>QuadraticDiscriminantAnalysis()</pre><b>In a Jupyter environment, please rerun this cell to show the HTML representation or trust the notebook. <br />On GitHub, the HTML representation is unable to render, please try loading this page with nbviewer.org.</b></div><div class=\"sk-container\" hidden><div class=\"sk-item\"><div class=\"sk-estimator sk-toggleable\"><input class=\"sk-toggleable__control sk-hidden--visually\" id=\"sk-estimator-id-1\" type=\"checkbox\" checked><label for=\"sk-estimator-id-1\" class=\"sk-toggleable__label sk-toggleable__label-arrow\">QuadraticDiscriminantAnalysis</label><div class=\"sk-toggleable__content\"><pre>QuadraticDiscriminantAnalysis()</pre></div></div></div></div></div>"
      ],
      "text/plain": [
       "QuadraticDiscriminantAnalysis()"
      ]
     },
     "execution_count": 28,
     "metadata": {},
     "output_type": "execute_result"
    }
   ],
   "source": [
    "clf.fit(dataX, dataY)"
   ]
  },
  {
   "cell_type": "code",
   "execution_count": 29,
   "id": "040550f9-45b4-40e4-b356-c6676865ec06",
   "metadata": {
    "tags": []
   },
   "outputs": [],
   "source": [
    "testA = np.loadtxt('data/classA_test.dat')\n",
    "testB = np.loadtxt('data/classB_test.dat')"
   ]
  },
  {
   "cell_type": "code",
   "execution_count": 32,
   "id": "18de335e-fe0e-4a7a-bf81-f2f0e8e7294f",
   "metadata": {
    "tags": []
   },
   "outputs": [],
   "source": [
    "testYA = clf.predict(testA)"
   ]
  },
  {
   "cell_type": "code",
   "execution_count": 33,
   "id": "157fa3a3-3294-4942-875a-cb02e2b7a2ff",
   "metadata": {
    "tags": []
   },
   "outputs": [],
   "source": [
    "testYB = clf.predict(testB)"
   ]
  },
  {
   "cell_type": "code",
   "execution_count": 36,
   "id": "6a3542d2-5805-4290-a06f-9d3d9c6eb105",
   "metadata": {
    "tags": []
   },
   "outputs": [],
   "source": [
    "yaf = np.count_nonzero(testYA > 0.)"
   ]
  },
  {
   "cell_type": "code",
   "execution_count": 37,
   "id": "3c6816b1-bab8-443d-94ab-cc2517cd6d8b",
   "metadata": {
    "tags": []
   },
   "outputs": [],
   "source": [
    "ra = (len(testYA) - yaf) / len(testYA)"
   ]
  },
  {
   "cell_type": "code",
   "execution_count": 38,
   "id": "a70044fb-8c46-48c3-bca6-603783e14c47",
   "metadata": {
    "tags": []
   },
   "outputs": [
    {
     "data": {
      "text/plain": [
       "0.972"
      ]
     },
     "execution_count": 38,
     "metadata": {},
     "output_type": "execute_result"
    }
   ],
   "source": [
    "ra"
   ]
  },
  {
   "cell_type": "code",
   "execution_count": 41,
   "id": "926fa263-42cf-4576-b72d-2a851bc32d2d",
   "metadata": {
    "tags": []
   },
   "outputs": [],
   "source": [
    "rb = (len(testYB) - np.count_nonzero(testYB < 1.)) / len(testYB)"
   ]
  },
  {
   "cell_type": "code",
   "execution_count": 42,
   "id": "c5556428-12f5-43a2-bd0a-28fbbee8bfdb",
   "metadata": {
    "tags": []
   },
   "outputs": [
    {
     "data": {
      "text/plain": [
       "0.74"
      ]
     },
     "execution_count": 42,
     "metadata": {},
     "output_type": "execute_result"
    }
   ],
   "source": [
    "rb"
   ]
  },
  {
   "cell_type": "code",
   "execution_count": 45,
   "id": "6a836d9a-cfc2-4ba5-b20f-cec8f1ef4d14",
   "metadata": {
    "tags": []
   },
   "outputs": [
    {
     "data": {
      "text/plain": [
       "array([ True, False, False, False,  True, False, False, False, False,\n",
       "        True, False, False, False, False, False, False,  True, False,\n",
       "       False, False,  True,  True, False, False, False,  True, False,\n",
       "        True,  True, False, False,  True, False, False, False,  True,\n",
       "       False, False, False, False, False, False, False, False,  True,\n",
       "       False,  True,  True, False, False, False, False, False,  True,\n",
       "        True,  True, False, False, False,  True, False, False, False,\n",
       "       False, False, False, False, False, False, False,  True, False,\n",
       "       False, False, False, False, False,  True, False, False, False,\n",
       "       False, False, False, False, False, False,  True,  True, False,\n",
       "        True,  True, False, False, False, False,  True, False, False,\n",
       "        True])"
      ]
     },
     "execution_count": 45,
     "metadata": {},
     "output_type": "execute_result"
    }
   ],
   "source": [
    "testYB < 1."
   ]
  },
  {
   "cell_type": "code",
   "execution_count": 46,
   "id": "aa4479a8-6b71-491f-a408-ec1a784af79f",
   "metadata": {
    "tags": []
   },
   "outputs": [
    {
     "data": {
      "text/plain": [
       "array([0., 1., 1., 1., 0., 1., 1., 1., 1., 0., 1., 1., 1., 1., 1., 1., 0.,\n",
       "       1., 1., 1., 0., 0., 1., 1., 1., 0., 1., 0., 0., 1., 1., 0., 1., 1.,\n",
       "       1., 0., 1., 1., 1., 1., 1., 1., 1., 1., 0., 1., 0., 0., 1., 1., 1.,\n",
       "       1., 1., 0., 0., 0., 1., 1., 1., 0., 1., 1., 1., 1., 1., 1., 1., 1.,\n",
       "       1., 1., 0., 1., 1., 1., 1., 1., 1., 0., 1., 1., 1., 1., 1., 1., 1.,\n",
       "       1., 1., 0., 0., 1., 0., 0., 1., 1., 1., 1., 0., 1., 1., 0.])"
      ]
     },
     "execution_count": 46,
     "metadata": {},
     "output_type": "execute_result"
    }
   ],
   "source": [
    "testYB"
   ]
  },
  {
   "cell_type": "code",
   "execution_count": 50,
   "id": "4b032f33-ec17-4682-b35c-e2d008a1b110",
   "metadata": {
    "tags": []
   },
   "outputs": [],
   "source": [
    "mean_A = np.mean(dataA, axis=0, keepdims=True)"
   ]
  },
  {
   "cell_type": "code",
   "execution_count": 51,
   "id": "588f3de2-40a4-4c78-8801-e1490e8908ed",
   "metadata": {
    "tags": []
   },
   "outputs": [
    {
     "data": {
      "text/plain": [
       "array([[0.93529521, 1.99390144, 4.02615068]])"
      ]
     },
     "execution_count": 51,
     "metadata": {},
     "output_type": "execute_result"
    }
   ],
   "source": [
    "mean_A"
   ]
  },
  {
   "cell_type": "code",
   "execution_count": 53,
   "id": "c2e0006b-0a72-4ce5-bf83-1ab9c148c6c3",
   "metadata": {
    "tags": []
   },
   "outputs": [],
   "source": [
    "mean_B = np.mean(dataB, axis=0, keepdims=True)"
   ]
  },
  {
   "cell_type": "code",
   "execution_count": 54,
   "id": "f886810b-4359-4f8d-8bb6-8e9450867dc1",
   "metadata": {
    "tags": []
   },
   "outputs": [
    {
     "data": {
      "text/plain": [
       "array([[1.99478019, 2.19551431, 1.36429809]])"
      ]
     },
     "execution_count": 54,
     "metadata": {},
     "output_type": "execute_result"
    }
   ],
   "source": [
    "mean_B"
   ]
  },
  {
   "cell_type": "code",
   "execution_count": 57,
   "id": "b64a6993-18f6-469f-b558-adb0a5c7c9b3",
   "metadata": {
    "tags": []
   },
   "outputs": [],
   "source": [
    "cov_A = np.cov(dataA.T)"
   ]
  },
  {
   "cell_type": "code",
   "execution_count": 58,
   "id": "7c1a8bd0-e978-4507-b77b-61e2d79740f8",
   "metadata": {
    "tags": []
   },
   "outputs": [
    {
     "data": {
      "text/plain": [
       "array([[ 0.95796805, -0.04108512,  0.08887932],\n",
       "       [-0.04108512,  1.12853282, -0.05353524],\n",
       "       [ 0.08887932, -0.05353524,  0.98545591]])"
      ]
     },
     "execution_count": 58,
     "metadata": {},
     "output_type": "execute_result"
    }
   ],
   "source": [
    "cov_A"
   ]
  },
  {
   "cell_type": "code",
   "execution_count": 59,
   "id": "b79f18a3-5bfd-4e9c-9c81-fe784aa3fc39",
   "metadata": {
    "tags": []
   },
   "outputs": [
    {
     "data": {
      "text/plain": [
       "array([[-0.33171371,  0.57734411,  3.54717841],\n",
       "       [ 2.70680861,  0.43402881,  4.71331105],\n",
       "       [ 0.40465598,  2.62619979,  3.57616767],\n",
       "       [ 0.38809626,  1.79640229,  3.59026913],\n",
       "       [ 2.87952378,  2.37719337,  4.52006552],\n",
       "       [ 0.79953092,  3.61834209,  4.84292465],\n",
       "       [ 1.70857928,  3.21952667,  4.37209885],\n",
       "       [-0.73006478,  0.94273942,  2.36173542],\n",
       "       [ 1.52217072,  2.31387324,  6.24034629],\n",
       "       [ 0.68056509,  3.21173076,  4.22571251],\n",
       "       [-0.35533286,  2.33658602,  3.86372304],\n",
       "       [ 2.38877425,  1.73785799,  4.94983806],\n",
       "       [ 0.86840314,  0.45672549,  4.33225073],\n",
       "       [ 0.99055398,  0.8817235 ,  3.83038874],\n",
       "       [ 1.52989867,  3.01554958,  3.12952141],\n",
       "       [ 1.16677458,  3.3700502 ,  3.17153716],\n",
       "       [ 1.29521397,  2.31494576,  2.90802802],\n",
       "       [ 1.47022956,  2.96325565,  3.97940825],\n",
       "       [ 0.33881165,  3.40720619,  3.14824928],\n",
       "       [ 2.12342091,  0.71004915,  4.56639293],\n",
       "       [ 1.41646512,  1.01103071,  3.88932681],\n",
       "       [ 3.26490353,  0.24342158,  4.39731875],\n",
       "       [ 0.80557807,  1.28295568,  4.45629901],\n",
       "       [ 0.89036223,  1.79874357,  3.58015315],\n",
       "       [ 0.63818082,  0.79219383,  2.6762087 ],\n",
       "       [-0.18985533,  2.39755728,  3.98003101],\n",
       "       [ 1.93077522,  2.68608024,  5.48916018],\n",
       "       [ 0.11536886,  3.5879961 ,  2.07453508],\n",
       "       [ 0.98356845,  2.88979482,  5.22740558],\n",
       "       [ 1.0762875 ,  2.60207745,  3.96506484],\n",
       "       [-0.45779272,  2.15501317,  4.82075596],\n",
       "       [ 2.27107551,  1.55389396,  3.49389089],\n",
       "       [ 0.7538765 ,  2.47465194,  4.25521321],\n",
       "       [ 1.95238383,  1.76158759,  2.91210476],\n",
       "       [ 0.86572872,  2.59382224,  4.54749109],\n",
       "       [ 0.47376206,  1.13037172,  5.08224074],\n",
       "       [ 0.35367985,  2.98837267,  3.36224458],\n",
       "       [ 1.95670414,  3.10000586,  4.2805003 ],\n",
       "       [ 1.70976521,  2.14372268,  5.70077405],\n",
       "       [ 1.81050721,  3.01799696,  5.38849877],\n",
       "       [ 0.56506411,  2.88986659,  5.13349049],\n",
       "       [ 0.55364873,  0.45750389,  6.0135084 ],\n",
       "       [ 2.48355276,  3.69105393,  6.53646837],\n",
       "       [ 1.14779508,  2.15686556,  3.77878037],\n",
       "       [-1.04710977,  1.72044977,  3.46445986],\n",
       "       [ 0.8422796 ,  1.46799326,  2.29309582],\n",
       "       [ 0.50721736,  3.83527538,  3.18876629],\n",
       "       [ 2.15071215,  3.58530881,  4.68198981],\n",
       "       [-0.73356538,  2.99336794,  3.32204719],\n",
       "       [ 1.90277891,  3.72813502,  4.3328788 ],\n",
       "       [ 0.11836137,  2.71075499,  4.92544035],\n",
       "       [ 0.59016126,  1.22123235,  4.58239673],\n",
       "       [ 0.72242563,  1.37465382,  3.70459498],\n",
       "       [ 1.42246499,  1.81536295,  3.41183271],\n",
       "       [ 1.40503365,  2.78156049,  3.38158363],\n",
       "       [ 0.87110212, -0.02809077,  1.93772767],\n",
       "       [ 2.22674607,  1.93854876,  3.06304858],\n",
       "       [ 2.60077636,  2.86738513,  4.7552646 ],\n",
       "       [ 2.49998023,  1.21982522,  2.98324712],\n",
       "       [ 1.73883437, -0.26484641,  5.65179261],\n",
       "       [-1.03471347,  2.04207661,  3.72159681],\n",
       "       [ 0.84283431,  3.42528649,  4.60252821],\n",
       "       [ 1.84519123,  1.45190137,  3.81441801],\n",
       "       [ 1.61058749,  1.44097537,  3.67190055],\n",
       "       [ 0.10064526,  3.81349152,  4.41891484],\n",
       "       [ 2.5635273 ,  0.62799042,  3.94149419],\n",
       "       [ 1.62060583,  0.4259812 ,  4.93185128],\n",
       "       [-0.41531105,  1.83188926,  3.82302343],\n",
       "       [ 0.18510464,  1.00801135,  2.44283916],\n",
       "       [ 0.82805759,  1.20299941,  5.01720896],\n",
       "       [ 1.14344606,  2.06624649,  3.11510632],\n",
       "       [ 0.33007529,  0.07259493,  3.45066004],\n",
       "       [ 0.77754102,  2.84499266,  4.91450731],\n",
       "       [ 0.64001395,  0.83321413,  2.68737948],\n",
       "       [ 1.18712421,  1.61476013,  3.86066944],\n",
       "       [ 0.58112855,  3.43389083,  4.66530832],\n",
       "       [ 1.76441696,  1.92126046,  2.91666129],\n",
       "       [ 0.23015226,  1.03534301,  3.96311417],\n",
       "       [ 1.5440679 ,  0.08608357,  3.77699107],\n",
       "       [ 0.77009122,  1.02522071,  4.68858019],\n",
       "       [-1.35434466,  1.52267752,  3.60851174],\n",
       "       [ 2.95337852,  1.76373198,  5.28417265],\n",
       "       [-0.65663773,  3.37733094,  4.34644071],\n",
       "       [-0.08913458,  1.94767416,  5.28831134],\n",
       "       [-0.96416725,  3.91165213,  3.91070355],\n",
       "       [ 0.58196848,  0.42453832,  3.39394625],\n",
       "       [-0.4289693 ,  2.92050122,  3.24322394],\n",
       "       [-1.20967198,  2.82899194,  3.07364511],\n",
       "       [ 0.77937401,  2.40352702,  4.59847497],\n",
       "       [ 1.55679764,  0.65346431,  2.99432707],\n",
       "       [ 1.79146343,  0.6277439 ,  4.01254329],\n",
       "       [ 1.02433806,  2.43121046,  4.29126886],\n",
       "       [ 1.08786684,  1.2325492 ,  4.75457236],\n",
       "       [ 1.37736848,  3.70187353,  3.15199396],\n",
       "       [ 2.41996173,  2.84938977,  4.16576011],\n",
       "       [ 0.72200861,  1.31742976,  1.89722505],\n",
       "       [ 1.82120587,  2.48684623,  4.63999778],\n",
       "       [ 0.96637814,  2.27311379,  4.39660043],\n",
       "       [ 0.53774785,  2.02603969,  3.68528185],\n",
       "       [-0.80302611,  0.86446231,  2.51727558],\n",
       "       [ 1.89493782,  1.63056847,  5.29697508],\n",
       "       [ 1.95124658,  2.71622687,  4.26056875],\n",
       "       [ 0.2795668 ,  1.41075751,  4.07221325],\n",
       "       [-1.05885135,  1.52971462,  4.05699166],\n",
       "       [-0.58667466,  3.60293768,  2.90532617],\n",
       "       [ 1.02288005,  2.42892767,  5.08829772],\n",
       "       [ 2.59912469,  0.29425937,  4.92554832],\n",
       "       [ 1.86512651,  0.73936205,  2.80467649],\n",
       "       [ 0.5977372 ,  0.72914538,  3.75645874],\n",
       "       [ 1.63159006,  1.55974292,  2.96178776],\n",
       "       [ 1.69423229,  2.96659176,  3.49188682],\n",
       "       [ 0.04839809,  2.76805209,  3.87377609],\n",
       "       [ 0.11061834,  2.0561929 ,  4.03234979],\n",
       "       [ 1.53168732,  1.81139192,  4.30927269],\n",
       "       [ 0.98961537,  3.18321987,  2.99312316],\n",
       "       [ 1.98225749,  1.75722488,  3.3841155 ],\n",
       "       [ 2.09909917,  3.05341788,  4.35916322],\n",
       "       [ 2.4919473 ,  1.33367148,  4.23051832],\n",
       "       [ 1.71469781,  0.68628132,  3.95940037],\n",
       "       [ 2.10727699,  3.20949297,  2.50330862],\n",
       "       [ 2.00710434,  1.3082517 ,  4.06318759],\n",
       "       [ 2.26107253,  2.02397405,  3.64823182],\n",
       "       [ 0.73786462,  0.91988829,  2.09729649],\n",
       "       [ 1.09889309,  3.57811068,  3.45697442],\n",
       "       [ 0.76737602,  2.68170155,  5.23227617],\n",
       "       [ 1.51876223,  0.87127975,  3.99513247],\n",
       "       [ 0.6538803 ,  2.6342382 ,  3.40153004],\n",
       "       [ 1.02016957,  2.50219691,  3.73653001],\n",
       "       [ 0.48696391,  0.80375198,  5.2699487 ],\n",
       "       [ 1.63483267,  0.52365949,  4.25013473],\n",
       "       [ 0.87348621,  0.87814292,  5.09504197],\n",
       "       [ 1.23695929,  3.76623153,  1.96217547],\n",
       "       [ 1.24310807,  2.26719258,  4.72780611],\n",
       "       [ 0.15088676,  1.82237681,  5.16727495],\n",
       "       [ 0.26636419,  0.68754404,  4.11489109],\n",
       "       [ 1.41076364,  1.3702944 ,  3.6496694 ],\n",
       "       [-0.0897779 ,  2.43870919,  4.62371661],\n",
       "       [ 0.57345148,  1.19754105,  3.81473506],\n",
       "       [ 1.64902249,  1.89269417,  4.82063292],\n",
       "       [-0.05481378,  1.90210556,  3.76705196],\n",
       "       [-0.2020105 ,  2.59646438,  2.06244677],\n",
       "       [ 0.4497898 ,  2.75728482,  6.60879605],\n",
       "       [ 0.01510647,  4.27524312,  3.59614502],\n",
       "       [ 1.75603461,  1.70774554,  2.79779094],\n",
       "       [-0.64492148,  0.03938688,  5.17321837],\n",
       "       [ 1.58001938,  2.20817844,  3.63644884],\n",
       "       [ 0.11041507,  2.57906438,  3.09812612],\n",
       "       [ 0.52276038,  4.06215939,  3.535665  ],\n",
       "       [ 1.59559662,  1.33187506,  3.23495788],\n",
       "       [ 0.39404483,  0.08396614,  4.97736525],\n",
       "       [ 0.17227695,  3.89417169,  4.58342703],\n",
       "       [ 1.56143912,  3.04997083,  3.1622863 ],\n",
       "       [-0.11187452,  2.01309047,  4.09374043],\n",
       "       [-0.5237235 ,  2.7210924 ,  3.71098345],\n",
       "       [ 1.14911427,  3.78764751,  3.10269278],\n",
       "       [ 1.16615287, -0.27811924,  4.76318896],\n",
       "       [ 0.1875356 ,  1.60690502,  3.92028989],\n",
       "       [-0.76216913,  2.09970761,  3.95810907],\n",
       "       [-0.69352387,  0.18990005,  4.59789739],\n",
       "       [-1.16362155,  2.70271193,  4.11971642],\n",
       "       [-0.26579601,  3.1809641 ,  4.71794702],\n",
       "       [ 0.36999096,  1.20799303,  1.93721599],\n",
       "       [ 2.62112076,  1.34303851,  4.53975278],\n",
       "       [-1.02661345,  0.49967695,  2.44120787],\n",
       "       [-0.83777346,  3.5895454 ,  2.88746338],\n",
       "       [-1.51857761,  1.18903983,  4.31845651],\n",
       "       [ 1.85806032,  1.97184669,  3.78906236],\n",
       "       [ 2.2864262 ,  2.92639802,  1.78139259],\n",
       "       [ 0.54992348,  1.68829211,  4.63399376],\n",
       "       [ 2.67133169,  1.96715793,  5.60079076],\n",
       "       [ 0.66719997,  2.53275197,  4.78688552],\n",
       "       [-0.82341347,  2.19564892,  4.66505442],\n",
       "       [-0.26300469,  0.80048996,  6.29574403],\n",
       "       [ 0.11829117,  2.56281907,  3.48019222],\n",
       "       [ 0.90130871,  2.14972036,  5.72158821],\n",
       "       [ 2.22510451,  3.21305063,  4.18182228],\n",
       "       [ 0.52962974,  2.63328946,  3.37459142],\n",
       "       [ 1.12468326, -0.18687883,  4.63475327],\n",
       "       [ 1.81647064, -0.11618504,  4.89632608],\n",
       "       [ 1.72523975,  1.62949833,  4.23312923],\n",
       "       [ 0.9717688 ,  1.37136862,  5.56110074],\n",
       "       [ 0.8203844 ,  4.98313611,  4.83627251],\n",
       "       [ 0.56855457,  2.60767125,  5.25257115],\n",
       "       [ 0.13945449,  1.76244521,  2.41803917],\n",
       "       [ 0.58989759,  1.45578107,  4.35989267],\n",
       "       [ 1.12682426,  0.72542274,  3.86484255],\n",
       "       [ 2.14625385,  2.38675174,  5.32449575],\n",
       "       [ 1.5648949 ,  3.86744765,  3.64520375],\n",
       "       [-0.08534081,  3.4003931 ,  5.95449674],\n",
       "       [ 1.32513491,  2.06121709,  2.35289182],\n",
       "       [ 2.30485624,  2.40573935,  2.60390529],\n",
       "       [ 0.66166733,  2.52551097,  2.26668996],\n",
       "       [ 2.0524135 ,  3.11284564,  2.30904439],\n",
       "       [ 0.85493113,  0.54921589,  3.76194121],\n",
       "       [ 2.66814126,  2.39023654,  2.615883  ],\n",
       "       [ 2.02207248,  2.5056051 ,  5.19356452],\n",
       "       [ 2.13812169,  2.55718067,  3.09607584],\n",
       "       [ 0.61997705,  1.27293889,  5.31818795],\n",
       "       [ 1.68833094,  1.91979594,  5.65184408],\n",
       "       [ 1.13936936,  2.48104198,  2.09614802],\n",
       "       [ 0.34509953,  2.27773711,  4.65438503],\n",
       "       [ 2.33007506,  2.75713077,  5.02133468],\n",
       "       [ 1.22343345,  2.01691923,  4.75691781],\n",
       "       [ 0.72881836,  2.58156125,  4.78930651],\n",
       "       [ 2.18315098,  0.75174238,  4.75618821],\n",
       "       [ 0.47492541,  2.54238577,  4.31384224],\n",
       "       [ 1.27948956,  0.89946723,  3.62333592],\n",
       "       [ 1.67344669,  2.28039927,  4.80561703],\n",
       "       [ 1.38890498, -0.46446695,  4.53020459],\n",
       "       [-1.29875337,  0.24209286,  3.39152306],\n",
       "       [-0.62331169,  1.54960494,  5.57029615],\n",
       "       [ 0.87313697,  1.80703801,  3.55618645],\n",
       "       [ 1.25079813,  2.84160564,  6.31800748],\n",
       "       [ 0.9251294 ,  3.31627304,  2.62230973],\n",
       "       [ 0.40669061,  2.21450498,  5.76045818],\n",
       "       [ 1.39453323,  1.03894314,  4.02505535],\n",
       "       [ 0.49487709,  2.13418558,  2.99130919],\n",
       "       [ 1.77566905,  0.74225646,  4.64453739],\n",
       "       [-0.64521221,  2.70936762,  3.1688206 ],\n",
       "       [ 2.37572318,  0.71536164,  4.39303934],\n",
       "       [ 2.36002376,  1.87842904,  2.98180786],\n",
       "       [ 0.35596126,  2.25306261,  3.9564076 ],\n",
       "       [ 0.13155459, -0.01537132,  5.05943058],\n",
       "       [ 2.42044618,  2.85548289,  5.2256952 ],\n",
       "       [ 1.40638304,  3.27226408,  5.54076357],\n",
       "       [-0.68201323,  0.99656444,  4.61936849],\n",
       "       [ 1.07506764,  3.46077511,  2.95290528],\n",
       "       [ 1.45579491,  2.42143231,  2.44287628],\n",
       "       [-0.84718348,  2.12012133,  4.99153022],\n",
       "       [ 0.15145743,  2.73580387,  3.79711878],\n",
       "       [ 0.41608458,  1.60901495,  2.77184822],\n",
       "       [ 1.46086648, -0.61652538,  3.23897239],\n",
       "       [ 1.24310508,  1.38698967,  3.45000834],\n",
       "       [ 1.63876215,  3.03728807,  3.31110759],\n",
       "       [ 1.28663349,  4.23108472,  4.06982061],\n",
       "       [ 2.00456073,  1.65793296,  5.90255651],\n",
       "       [ 0.78373359,  2.89670099,  4.42697486],\n",
       "       [ 1.50086041,  1.09800613,  5.18720921],\n",
       "       [ 0.82822834,  3.34989591,  3.41955323],\n",
       "       [-0.18838261,  2.03752759,  3.15877778],\n",
       "       [ 1.22456392,  1.23556903,  3.72106443],\n",
       "       [ 0.54066871,  1.72091728,  3.4243239 ],\n",
       "       [-0.08587107,  2.15880193,  5.02156561],\n",
       "       [ 1.9047846 ,  2.29657228,  4.02254841],\n",
       "       [ 0.8785795 ,  1.50780797,  3.77534389],\n",
       "       [ 1.33007334,  2.76830171,  4.96884271],\n",
       "       [ 0.62386143,  1.30991867,  4.9320632 ],\n",
       "       [ 0.53864316,  1.02627689,  4.35585086],\n",
       "       [ 2.07177338,  1.85269899,  2.84756868],\n",
       "       [ 0.15654493,  2.23870566,  2.70753233]])"
      ]
     },
     "execution_count": 59,
     "metadata": {},
     "output_type": "execute_result"
    }
   ],
   "source": [
    "dataA"
   ]
  },
  {
   "cell_type": "code",
   "execution_count": null,
   "id": "c704d1d2-4531-4a64-9c65-bcf3a9ba1555",
   "metadata": {},
   "outputs": [],
   "source": []
  }
 ],
 "metadata": {
  "kernelspec": {
   "display_name": "Python 3 (ipykernel)",
   "language": "python",
   "name": "python3"
  },
  "language_info": {
   "codemirror_mode": {
    "name": "ipython",
    "version": 3
   },
   "file_extension": ".py",
   "mimetype": "text/x-python",
   "name": "python",
   "nbconvert_exporter": "python",
   "pygments_lexer": "ipython3",
   "version": "3.10.9"
  }
 },
 "nbformat": 4,
 "nbformat_minor": 5
}
